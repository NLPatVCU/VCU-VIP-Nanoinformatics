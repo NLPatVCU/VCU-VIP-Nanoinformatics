{
 "cells": [
  {
   "cell_type": "markdown",
   "metadata": {},
   "source": [
    "# Experimental Results from a Decision Tree based NER model"
   ]
  },
  {
   "cell_type": "markdown",
   "metadata": {},
   "source": [
    "Decisions Trees, as opposed to other machine learning techniques such as SVM's and Neural Networks, provide a human-interpretable classification model. We will exploit this to both generate pretty pictures and glean information for feature selection in our high dimensionality datasets.\n",
    "\n",
    "This report will provide precision, recall, and f-measure values for Decision Trees built on the orthographic; orthograhic + morphological; orthographic + morphological + lexical feature sets for the Adverse Reaction, Indication, Active Ingredient, and Inactive Ingredient entities. A viewable Decision Tree structure will also be generated for each fold."
   ]
  },
  {
   "cell_type": "markdown",
   "metadata": {},
   "source": [
    "<hr>"
   ]
  },
  {
   "cell_type": "markdown",
   "metadata": {},
   "source": [
    "The file 'decisiontree.py' builds a Decision Tree classifier on the sparse format ARFF file passed in as a parameter. This file is saved in the models directory with the format 'decisiontree\\_[featuresets]\\_[entity name].pkl' <br>\n",
    "The file 'evaluate_decisiontree.py' evaluates a given Decision Tree model stored inside a '.pkl' file outputing appropriate statistics and saving a pdf image of the underlying decision structure associated with the given model.\n",
    "\n",
    "All ARFF files were cleaned with 'arff_translator.py'. This cleaning consisted of removing a comma from each instance that was mistakenly inserted during file creation. \n"
   ]
  },
  {
   "cell_type": "raw",
   "metadata": {},
   "source": [
    "python3 arff_translator.py [filename]"
   ]
  },
  {
   "cell_type": "markdown",
   "metadata": {},
   "source": [
    "# Adverse Reaction Feature Set"
   ]
  },
  {
   "cell_type": "markdown",
   "metadata": {},
   "source": [
    "### Orthographic Features"
   ]
  },
  {
   "cell_type": "code",
   "execution_count": 5,
   "metadata": {},
   "outputs": [
    {
     "name": "stdout",
     "output_type": "stream",
     "text": [
      "adversereaction_test-1.arff\n",
      "Precision: 0.961538\n",
      "Recall: 0.013789\n",
      "[[   25  1788]\n",
      " [    1 16927]]\n",
      "\n",
      "\n",
      "adversereaction_test-2.arff\n",
      "Precision: 0.750000\n",
      "Recall: 0.008167\n",
      "[[    9  1093]\n",
      " [    3 19878]]\n",
      "\n",
      "\n",
      "adversereaction_test-3.arff\n",
      "Precision: 0.333333\n",
      "Recall: 0.001961\n",
      "[[    1   509]\n",
      " [    2 10642]]\n",
      "\n",
      "\n",
      "adversereaction_test-4.arff\n",
      "Precision: 1.000000\n",
      "Recall: 0.009394\n",
      "[[   11  1160]\n",
      " [    0 10655]]\n",
      "\n",
      "\n",
      "adversereaction_test-5.arff\n",
      "Precision: 0.571429\n",
      "Recall: 0.010852\n",
      "[[   20  1823]\n",
      " [   15 18196]]\n",
      "\n",
      "\n",
      "adversereaction_test-6.arff\n",
      "Precision: 0.166667\n",
      "Recall: 0.002210\n",
      "[[    2   903]\n",
      " [   10 13178]]\n",
      "\n",
      "\n",
      "adversereaction_test-7.arff\n",
      "Precision: 0.800000\n",
      "Recall: 0.006098\n",
      "[[    4   652]\n",
      " [    1 18655]]\n",
      "\n",
      "\n",
      "adversereaction_test-8.arff\n",
      "Precision: 0.708333\n",
      "Recall: 0.020118\n",
      "[[   17   828]\n",
      " [    7 15856]]\n",
      "\n",
      "\n",
      "adversereaction_test-9.arff\n",
      "Precision: 0.500000\n",
      "Recall: 0.001765\n",
      "[[   2 1131]\n",
      " [   2 8715]]\n",
      "\n",
      "\n",
      "adversereaction_test-10.arff\n",
      "Precision: 0.538462\n",
      "Recall: 0.006261\n",
      "[[    7  1111]\n",
      " [    6 15010]]\n",
      "\n",
      "\n"
     ]
    }
   ],
   "source": [
    "import subprocess\n",
    "\n",
    "\"\"\" Creates models for each fold and runs evaluation with results \"\"\"\n",
    "featureset = \"o\"\n",
    "entity_name = \"adversereaction\"\n",
    "\n",
    "for fold in range(1,1): #training has already been done\n",
    "    training_data = \"../ARFF_Files/%s_ARFF/_%s/_train/%s_train-%i.arff\" % (entity_name, featureset, entity_name, fold)\n",
    "    os.system(\"python3 decisiontree.py -tr %s\" % (training_data))\n",
    "\n",
    "\n",
    "for fold in range(1,11):\n",
    "    testing_data = \"../ARFF_Files/%s_ARFF/_%s/_test/%s_test-%i.arff\" % (entity_name, featureset, entity_name, fold)\n",
    "    output = subprocess.check_output(\"python3 evaluate_decisiontree.py -te %s\" % (testing_data), shell=True)\n",
    "    print(output.decode('utf-8'))"
   ]
  },
  {
   "cell_type": "markdown",
   "metadata": {},
   "source": [
    "Rather lackluster performance."
   ]
  },
  {
   "cell_type": "markdown",
   "metadata": {},
   "source": [
    "### Orthographic + Morphological Features"
   ]
  },
  {
   "cell_type": "code",
   "execution_count": 9,
   "metadata": {},
   "outputs": [
    {
     "name": "stdout",
     "output_type": "stream",
     "text": [
      "adversereaction_test-1.arff\n",
      "Precision: 0.810458\n",
      "Recall: 0.478764\n",
      "[[  868   945]\n",
      " [  203 16725]]\n",
      "\n",
      "\n",
      "adversereaction_test-2.arff\n",
      "Precision: 0.475576\n",
      "Recall: 0.468240\n",
      "[[  516   586]\n",
      " [  569 19312]]\n",
      "\n",
      "\n",
      "adversereaction_test-3.arff\n",
      "Precision: 0.487965\n",
      "Recall: 0.437255\n",
      "[[  223   287]\n",
      " [  234 10410]]\n",
      "\n",
      "\n",
      "adversereaction_test-4.arff\n",
      "Precision: 0.795165\n",
      "Recall: 0.533732\n",
      "[[  625   546]\n",
      " [  161 10494]]\n",
      "\n",
      "\n",
      "adversereaction_test-5.arff\n",
      "Precision: 0.767084\n",
      "Recall: 0.432447\n",
      "[[  797  1046]\n",
      " [  242 17969]]\n",
      "\n",
      "\n",
      "adversereaction_test-6.arff\n",
      "Precision: 0.607207\n",
      "Recall: 0.372376\n",
      "[[  337   568]\n",
      " [  218 12970]]\n",
      "\n",
      "\n",
      "adversereaction_test-7.arff\n",
      "Precision: 0.423135\n",
      "Recall: 0.423780\n",
      "[[  278   378]\n",
      " [  379 18277]]\n",
      "\n",
      "\n",
      "adversereaction_test-8.arff\n",
      "Precision: 0.526387\n",
      "Recall: 0.460355\n",
      "[[  389   456]\n",
      " [  350 15513]]\n",
      "\n",
      "\n",
      "adversereaction_test-9.arff\n",
      "Precision: 0.797601\n",
      "Recall: 0.469550\n",
      "[[ 532  601]\n",
      " [ 135 8582]]\n",
      "\n",
      "\n",
      "adversereaction_test-10.arff\n",
      "Precision: 0.732477\n",
      "Recall: 0.560823\n",
      "[[  627   491]\n",
      " [  229 14787]]\n",
      "\n",
      "\n"
     ]
    }
   ],
   "source": [
    "import subprocess\n",
    "\n",
    "\"\"\" Creates models for each fold and runs evaluation with results \"\"\"\n",
    "featureset = \"om\"\n",
    "entity_name = \"adversereaction\"\n",
    "\n",
    "for fold in range(1,1): #training has already been done\n",
    "    training_data = \"../ARFF_Files/%s_ARFF/_%s/_train/%s_train-%i.arff\" % (entity_name, featureset, entity_name, fold)\n",
    "    os.system(\"python3 decisiontree.py -tr %s\" % (training_data))\n",
    "\n",
    "\n",
    "for fold in range(1,11):\n",
    "    testing_data = \"../ARFF_Files/%s_ARFF/_%s/_test/%s_test-%i.arff\" % (entity_name, featureset, entity_name, fold)\n",
    "    output = subprocess.check_output(\"python3 evaluate_decisiontree.py -te %s\" % (testing_data), shell=True)\n",
    "    print(output.decode('utf-8'))"
   ]
  },
  {
   "cell_type": "markdown",
   "metadata": {},
   "source": [
    "It appears adding in the morphological features greatly increased classifier performance.<br>\n",
    "Below, find the underlying decision tree structure representing the classifier."
   ]
  },
  {
   "cell_type": "code",
   "execution_count": 41,
   "metadata": {},
   "outputs": [
    {
     "data": {
      "text/plain": [
       "'Source.gv.pdf'"
      ]
     },
     "execution_count": 41,
     "metadata": {},
     "output_type": "execute_result"
    }
   ],
   "source": [
    "import graphviz\n",
    "from sklearn.externals import joblib\n",
    "from Tools import arff_converter\n",
    "from sklearn import tree\n",
    "\n",
    "featureset = \"o\"\n",
    "entity_name = \"adversereaction\"\n",
    "\n",
    "fold = 3\n",
    "training_data = \"../ARFF_Files/%s_ARFF/_%s/_train/%s_train-%i.arff\" % (entity_name, featureset, entity_name, fold)\n",
    "dataset = arff_converter.arff2df(training_data)\n",
    "dtree = joblib.load('../Models/decisiontree/adversereaction_o/decisiontree_o_adversereaction_train-%i.arff.pkl' % fold)\n",
    "tree.export_graphviz(dtree, out_file=\"visual/temptree.dot\",\n",
    "                                  feature_names=dataset.columns.values[:-1],\n",
    "                                  class_names=[\"Entity\", \"Non-Entity\"], label='all',\n",
    "                               filled=True, rounded=True, proportion=False, leaves_parallel=True,\n",
    "                                 special_characters=True)\n",
    "with open(\"visual/temptree.dot\") as f:\n",
    "    dot_graph = f.read()\n",
    "graphviz.Source(dot_graph)\n"
   ]
  },
  {
   "cell_type": "code",
   "execution_count": null,
   "metadata": {},
   "outputs": [],
   "source": []
  }
 ],
 "metadata": {
  "kernelspec": {
   "display_name": "Python 3",
   "language": "python",
   "name": "python3"
  },
  "language_info": {
   "codemirror_mode": {
    "name": "ipython",
    "version": 3
   },
   "file_extension": ".py",
   "mimetype": "text/x-python",
   "name": "python",
   "nbconvert_exporter": "python",
   "pygments_lexer": "ipython3",
   "version": "3.5.2"
  }
 },
 "nbformat": 4,
 "nbformat_minor": 2
}
