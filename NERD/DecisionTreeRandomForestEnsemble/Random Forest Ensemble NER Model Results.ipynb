{
 "cells": [
  {
   "cell_type": "markdown",
   "metadata": {},
   "source": [
    "# Experimental Results from a Random Forest Decision Tree Ensemble based NER model"
   ]
  },
  {
   "cell_type": "markdown",
   "metadata": {},
   "source": [
    "Random Forest Decision Tree Ensembles build a set of Decision Trees, each on a random subset of a given data set, that return a combined classification decision.\n",
    "\n",
    "This report will provide precision, recall, and f-measure values for Decision Trees built on the orthographic; orthograhic + morphological; orthographic + morphological + lexical feature sets for the Adverse Reaction, Indication, Active Ingredient, and Inactive Ingredient entities. A viewable Decision Tree structure will also be generated for each fold."
   ]
  },
  {
   "cell_type": "markdown",
   "metadata": {},
   "source": [
    "<hr>"
   ]
  },
  {
   "cell_type": "markdown",
   "metadata": {},
   "source": [
    "The file 'randomforest.py' builds a Random Forest Ensemble classifier on the sparse format ARFF file passed in as a parameter. This file is saved in the models directory with the format 'randomforest\\_[featuresets]\\_[entity name].pkl' <br>\n",
    "The file 'evaluate_randomforest.py' evaluates a given Random Forest Ensemble model stored inside a '.pkl' file outputing appropriate statistics and saving a pdf image of the underlying decision structure associated with the given model.\n",
    "\n",
    "All ARFF files were cleaned with 'arff_translator.py'. This cleaning consisted of removing a comma from each instance that was mistakenly inserted during file creation. \n"
   ]
  },
  {
   "cell_type": "raw",
   "metadata": {},
   "source": [
    "python3 arff_translator.py [filename]"
   ]
  },
  {
   "cell_type": "markdown",
   "metadata": {},
   "source": [
    "# Adverse Reaction Feature Set"
   ]
  },
  {
   "cell_type": "markdown",
   "metadata": {},
   "source": [
    "### Orthographic Features"
   ]
  },
  {
   "cell_type": "code",
   "execution_count": 1,
   "metadata": {},
   "outputs": [
    {
     "name": "stdout",
     "output_type": "stream",
     "text": [
      "adversereaction_test-1.arff\n",
      "Precision: 0.961538\n",
      "Recall: 0.013789\n",
      "[[   25  1788]\n",
      " [    1 16927]]\n",
      "\n",
      "\n",
      "adversereaction_test-2.arff\n",
      "Precision: 0.750000\n",
      "Recall: 0.008167\n",
      "[[    9  1093]\n",
      " [    3 19878]]\n",
      "\n",
      "\n",
      "adversereaction_test-3.arff\n",
      "Precision: 0.333333\n",
      "Recall: 0.001961\n",
      "[[    1   509]\n",
      " [    2 10642]]\n",
      "\n",
      "\n",
      "adversereaction_test-4.arff\n",
      "Precision: 1.000000\n",
      "Recall: 0.008540\n",
      "[[   10  1161]\n",
      " [    0 10655]]\n",
      "\n",
      "\n",
      "adversereaction_test-5.arff\n",
      "Precision: 0.571429\n",
      "Recall: 0.010852\n",
      "[[   20  1823]\n",
      " [   15 18196]]\n",
      "\n",
      "\n",
      "adversereaction_test-6.arff\n",
      "Precision: 0.166667\n",
      "Recall: 0.002210\n",
      "[[    2   903]\n",
      " [   10 13178]]\n",
      "\n",
      "\n",
      "adversereaction_test-7.arff\n",
      "Precision: 0.800000\n",
      "Recall: 0.006098\n",
      "[[    4   652]\n",
      " [    1 18655]]\n",
      "\n",
      "\n",
      "adversereaction_test-8.arff\n",
      "Precision: 0.708333\n",
      "Recall: 0.020118\n",
      "[[   17   828]\n",
      " [    7 15856]]\n",
      "\n",
      "\n",
      "adversereaction_test-9.arff\n",
      "Precision: 0.500000\n",
      "Recall: 0.001765\n",
      "[[   2 1131]\n",
      " [   2 8715]]\n",
      "\n",
      "\n",
      "adversereaction_test-10.arff\n",
      "Precision: 0.538462\n",
      "Recall: 0.006261\n",
      "[[    7  1111]\n",
      " [    6 15010]]\n",
      "\n",
      "\n"
     ]
    }
   ],
   "source": [
    "import subprocess\n",
    "\n",
    "\"\"\" Creates models for each fold and runs evaluation with results \"\"\"\n",
    "featureset = \"o\"\n",
    "entity_name = \"adversereaction\"\n",
    "\n",
    "for fold in range(1,1): #training has already been done\n",
    "    training_data = \"../ARFF_Files/%s_ARFF/_%s/_train/%s_train-%i.arff\" % (entity_name, featureset, entity_name, fold)\n",
    "    os.system(\"python3 decisiontree.py -tr %s\" % (training_data))\n",
    "\n",
    "\n",
    "for fold in range(1,11):\n",
    "    testing_data = \"../ARFF_Files/%s_ARFF/_%s/_test/%s_test-%i.arff\" % (entity_name, featureset, entity_name, fold)\n",
    "    output = subprocess.check_output(\"python3 evaluate_randomforest.py -te %s\" % (testing_data), shell=True)\n",
    "    print(output.decode('utf-8'))"
   ]
  },
  {
   "cell_type": "markdown",
   "metadata": {},
   "source": [
    "Orthographic features alone contribute to a relatively high precision but very low recall. This implies that orthographic features alone are not enough to carve out the decision boundary for all the positive instances hence the low recall.However,the decision boundary created is very selective as indicated by the high precision."
   ]
  },
  {
   "cell_type": "markdown",
   "metadata": {},
   "source": [
    "### Orthographic + Morphological Features"
   ]
  },
  {
   "cell_type": "code",
   "execution_count": 2,
   "metadata": {},
   "outputs": [
    {
     "name": "stdout",
     "output_type": "stream",
     "text": [
      "adversereaction_test-1.arff\n",
      "Precision: 0.823755\n",
      "Recall: 0.474352\n",
      "[[  860   953]\n",
      " [  184 16744]]\n",
      "\n",
      "\n",
      "adversereaction_test-2.arff\n",
      "Precision: 0.502982\n",
      "Recall: 0.459165\n",
      "[[  506   596]\n",
      " [  500 19381]]\n",
      "\n",
      "\n",
      "adversereaction_test-3.arff\n",
      "Precision: 0.566845\n",
      "Recall: 0.415686\n",
      "[[  212   298]\n",
      " [  162 10482]]\n",
      "\n",
      "\n",
      "adversereaction_test-4.arff\n",
      "Precision: 0.800781\n",
      "Recall: 0.525192\n",
      "[[  615   556]\n",
      " [  153 10502]]\n",
      "\n",
      "\n",
      "adversereaction_test-5.arff\n",
      "Precision: 0.773810\n",
      "Recall: 0.423223\n",
      "[[  780  1063]\n",
      " [  228 17983]]\n",
      "\n",
      "\n",
      "adversereaction_test-6.arff\n",
      "Precision: 0.618081\n",
      "Recall: 0.370166\n",
      "[[  335   570]\n",
      " [  207 12981]]\n",
      "\n",
      "\n",
      "adversereaction_test-7.arff\n",
      "Precision: 0.423622\n",
      "Recall: 0.410061\n",
      "[[  269   387]\n",
      " [  366 18290]]\n",
      "\n",
      "\n",
      "adversereaction_test-8.arff\n",
      "Precision: 0.525606\n",
      "Recall: 0.461538\n",
      "[[  390   455]\n",
      " [  352 15511]]\n",
      "\n",
      "\n",
      "adversereaction_test-9.arff\n",
      "Precision: 0.803571\n",
      "Recall: 0.476611\n",
      "[[ 540  593]\n",
      " [ 132 8585]]\n",
      "\n",
      "\n",
      "adversereaction_test-10.arff\n",
      "Precision: 0.756426\n",
      "Recall: 0.552773\n",
      "[[  618   500]\n",
      " [  199 14817]]\n",
      "\n",
      "\n"
     ]
    }
   ],
   "source": [
    "import subprocess\n",
    "\n",
    "\"\"\" Creates models for each fold and runs evaluation with results \"\"\"\n",
    "featureset = \"om\"\n",
    "entity_name = \"adversereaction\"\n",
    "\n",
    "for fold in range(1,1): #training has already been done\n",
    "    training_data = \"../ARFF_Files/%s_ARFF/_%s/_train/%s_train-%i.arff\" % (entity_name, featureset, entity_name, fold)\n",
    "    os.system(\"python3 decisiontree.py -tr %s\" % (training_data))\n",
    "\n",
    "\n",
    "for fold in range(1,11):\n",
    "    testing_data = \"../ARFF_Files/%s_ARFF/_%s/_test/%s_test-%i.arff\" % (entity_name, featureset, entity_name, fold)\n",
    "    output = subprocess.check_output(\"python3 evaluate_randomforest.py -te %s\" % (testing_data), shell=True)\n",
    "    print(output.decode('utf-8'))"
   ]
  },
  {
   "cell_type": "markdown",
   "metadata": {},
   "source": [
    "It appears adding in the morphological features greatly increased classifier performance.<br>\n",
    "Below, find the underlying decision tree structure representing the classifier."
   ]
  },
  {
   "cell_type": "markdown",
   "metadata": {},
   "source": [
    "### Orthographic + Morphological + Lexical Features"
   ]
  },
  {
   "cell_type": "code",
   "execution_count": 1,
   "metadata": {},
   "outputs": [
    {
     "name": "stdout",
     "output_type": "stream",
     "text": [
      "adversereaction_test-1.arff\n",
      "Precision: 0.838754\n",
      "Recall: 0.668505\n",
      "[[ 1212   601]\n",
      " [  233 16695]]\n",
      "\n",
      "\n",
      "adversereaction_test-2.arff\n",
      "Precision: 0.537289\n",
      "Recall: 0.607985\n",
      "[[  670   432]\n",
      " [  577 19304]]\n",
      "\n",
      "\n",
      "adversereaction_test-3.arff\n",
      "Precision: 0.723913\n",
      "Recall: 0.652941\n",
      "[[  333   177]\n",
      " [  127 10517]]\n",
      "\n",
      "\n",
      "adversereaction_test-4.arff\n",
      "Precision: 0.826695\n",
      "Recall: 0.655850\n",
      "[[  768   403]\n",
      " [  161 10494]]\n",
      "\n",
      "\n",
      "adversereaction_test-5.arff\n",
      "Precision: 0.752941\n",
      "Recall: 0.520890\n",
      "[[  960   883]\n",
      " [  315 17896]]\n",
      "\n",
      "\n",
      "adversereaction_test-6.arff\n",
      "Precision: 0.746367\n",
      "Recall: 0.624309\n",
      "[[  565   340]\n",
      " [  192 12996]]\n",
      "\n",
      "\n",
      "adversereaction_test-7.arff\n",
      "Precision: 0.557647\n",
      "Recall: 0.722561\n",
      "[[  474   182]\n",
      " [  376 18280]]\n",
      "\n",
      "\n",
      "adversereaction_test-8.arff\n",
      "Precision: 0.523636\n",
      "Recall: 0.681657\n",
      "[[  576   269]\n",
      " [  524 15339]]\n",
      "\n",
      "\n",
      "adversereaction_test-9.arff\n",
      "Precision: 0.855781\n",
      "Recall: 0.633716\n",
      "[[ 718  415]\n",
      " [ 121 8596]]\n",
      "\n",
      "\n",
      "adversereaction_test-10.arff\n",
      "Precision: 0.772600\n",
      "Recall: 0.741503\n",
      "[[  829   289]\n",
      " [  244 14772]]\n",
      "\n",
      "\n"
     ]
    }
   ],
   "source": [
    "import subprocess\n",
    "\n",
    "\"\"\" Creates models for each fold and runs evaluation with results \"\"\"\n",
    "featureset = \"omt\"\n",
    "entity_name = \"adversereaction\"\n",
    "\n",
    "for fold in range(1,1): #training has already been done\n",
    "    training_data = \"../ARFF_Files/%s_ARFF/_%s/_train/%s_train-%i.arff\" % (entity_name, featureset, entity_name, fold)\n",
    "    os.system(\"python3 decisiontree.py -tr %s\" % (training_data))\n",
    "\n",
    "\n",
    "for fold in range(1,11):\n",
    "    testing_data = \"../ARFF_Files/%s_ARFF/_%s/_test/%s_test-%i.arff\" % (entity_name, featureset, entity_name, fold)\n",
    "    output = subprocess.check_output(\"python3 evaluate_randomforest.py -te %s\" % (testing_data), shell=True)\n",
    "    print(output.decode('utf-8'))"
   ]
  },
  {
   "cell_type": "code",
   "execution_count": null,
   "metadata": {},
   "outputs": [],
   "source": []
  }
 ],
 "metadata": {
  "kernelspec": {
   "display_name": "Python 3",
   "language": "python",
   "name": "python3"
  },
  "language_info": {
   "codemirror_mode": {
    "name": "ipython",
    "version": 3
   },
   "file_extension": ".py",
   "mimetype": "text/x-python",
   "name": "python",
   "nbconvert_exporter": "python",
   "pygments_lexer": "ipython3",
   "version": "3.4.5"
  }
 },
 "nbformat": 4,
 "nbformat_minor": 2
}
