{
 "cells": [
  {
   "cell_type": "markdown",
   "metadata": {},
   "source": [
    "# Document Classification with SVM"
   ]
  },
  {
   "cell_type": "markdown",
   "metadata": {},
   "source": [
    "### First we import everything we need"
   ]
  },
  {
   "cell_type": "code",
   "execution_count": 21,
   "metadata": {},
   "outputs": [],
   "source": [
    "import numpy as np\n",
    "from sklearn.feature_extraction.text import CountVectorizer\n",
    "from sklearn.svm import SVC\n",
    "from sklearn.pipeline import Pipeline\n",
    "from sklearn.model_selection import cross_validate\n",
    "from sklearn.metrics import make_scorer, f1_score, precision_score, recall_score\n",
    "import sys\n",
    "import pandas as pd\n",
    "sys.path.append('/Users/brandonwatts/Desktop/VCU-VIP-Nanoinformatics/Tools')\n",
    "from TextTools import build_data_frame, clean_text"
   ]
  },
  {
   "cell_type": "markdown",
   "metadata": {},
   "source": [
    "### Next we will define a mapping that will map an entity label to a directory. "
   ]
  },
  {
   "cell_type": "code",
   "execution_count": 2,
   "metadata": {},
   "outputs": [
    {
     "data": {
      "text/html": [
       "<div>\n",
       "<style>\n",
       "    .dataframe thead tr:only-child th {\n",
       "        text-align: right;\n",
       "    }\n",
       "\n",
       "    .dataframe thead th {\n",
       "        text-align: left;\n",
       "    }\n",
       "\n",
       "    .dataframe tbody tr th {\n",
       "        vertical-align: top;\n",
       "    }\n",
       "</style>\n",
       "<table border=\"1\" class=\"dataframe\">\n",
       "  <thead>\n",
       "    <tr style=\"text-align: right;\">\n",
       "      <th></th>\n",
       "      <th>Label</th>\n",
       "      <th>Directory</th>\n",
       "    </tr>\n",
       "  </thead>\n",
       "  <tbody>\n",
       "    <tr>\n",
       "      <th>0</th>\n",
       "      <td>NANOINF</td>\n",
       "      <td>../../Data/NanoinformaticsTXT</td>\n",
       "    </tr>\n",
       "    <tr>\n",
       "      <th>1</th>\n",
       "      <td>ENV</td>\n",
       "      <td>../../Data/EnvironmentTXT</td>\n",
       "    </tr>\n",
       "    <tr>\n",
       "      <th>2</th>\n",
       "      <td>SYN</td>\n",
       "      <td>../../Data/SynthesisTXT</td>\n",
       "    </tr>\n",
       "    <tr>\n",
       "      <th>3</th>\n",
       "      <td>TOX</td>\n",
       "      <td>../../Data/ToxicologyTXT</td>\n",
       "    </tr>\n",
       "  </tbody>\n",
       "</table>\n",
       "</div>"
      ],
      "text/plain": [
       "     Label                      Directory\n",
       "0  NANOINF  ../../Data/NanoinformaticsTXT\n",
       "1      ENV      ../../Data/EnvironmentTXT\n",
       "2      SYN        ../../Data/SynthesisTXT\n",
       "3      TOX       ../../Data/ToxicologyTXT"
      ]
     },
     "execution_count": 2,
     "metadata": {},
     "output_type": "execute_result"
    }
   ],
   "source": [
    "mapping_df = pd.read_csv('../../Data/mapping.csv')\n",
    "mapping_df"
   ]
  },
  {
   "cell_type": "markdown",
   "metadata": {},
   "source": [
    "### Now we can obtain the documents from thier directory and place them in a DataFrame."
   ]
  },
  {
   "cell_type": "code",
   "execution_count": 8,
   "metadata": {},
   "outputs": [
    {
     "data": {
      "text/html": [
       "<div>\n",
       "<style>\n",
       "    .dataframe thead tr:only-child th {\n",
       "        text-align: right;\n",
       "    }\n",
       "\n",
       "    .dataframe thead th {\n",
       "        text-align: left;\n",
       "    }\n",
       "\n",
       "    .dataframe tbody tr th {\n",
       "        vertical-align: top;\n",
       "    }\n",
       "</style>\n",
       "<table border=\"1\" class=\"dataframe\">\n",
       "  <thead>\n",
       "    <tr style=\"text-align: right;\">\n",
       "      <th></th>\n",
       "      <th>class</th>\n",
       "      <th>text</th>\n",
       "    </tr>\n",
       "  </thead>\n",
       "  <tbody>\n",
       "    <tr>\n",
       "      <th>../../Data/NanoinformaticsTXT/Tang_International Journal of Nanomedicine_2013.txt</th>\n",
       "      <td>NANOINF</td>\n",
       "      <td>tang al publisher licensee dove medical press ...</td>\n",
       "    </tr>\n",
       "    <tr>\n",
       "      <th>../../Data/NanoinformaticsTXT/Kostoff_J.txt</th>\n",
       "      <td>NANOINF</td>\n",
       "      <td>data mining tomography office naval research n...</td>\n",
       "    </tr>\n",
       "    <tr>\n",
       "      <th>../../Data/NanoinformaticsTXT/Chiesa_Maojo_INVE_MEM_2008.txt</th>\n",
       "      <td>NANOINF</td>\n",
       "      <td>part berlin building index automatic approach ...</td>\n",
       "    </tr>\n",
       "    <tr>\n",
       "      <th>../../Data/NanoinformaticsTXT/Liu_Cohen_CompSciDisc_2013.txt</th>\n",
       "      <td>NANOINF</td>\n",
       "      <td>screening data analysis institute university c...</td>\n",
       "    </tr>\n",
       "    <tr>\n",
       "      <th>../../Data/NanoinformaticsTXT/Oksel_Particuology_2015.txt</th>\n",
       "      <td>NANOINF</td>\n",
       "      <td>article content available jo ur home page loca...</td>\n",
       "    </tr>\n",
       "  </tbody>\n",
       "</table>\n",
       "</div>"
      ],
      "text/plain": [
       "                                                      class  \\\n",
       "../../Data/NanoinformaticsTXT/Tang_Internationa...  NANOINF   \n",
       "../../Data/NanoinformaticsTXT/Kostoff_J.txt         NANOINF   \n",
       "../../Data/NanoinformaticsTXT/Chiesa_Maojo_INVE...  NANOINF   \n",
       "../../Data/NanoinformaticsTXT/Liu_Cohen_CompSci...  NANOINF   \n",
       "../../Data/NanoinformaticsTXT/Oksel_Particuolog...  NANOINF   \n",
       "\n",
       "                                                                                                 text  \n",
       "../../Data/NanoinformaticsTXT/Tang_Internationa...  tang al publisher licensee dove medical press ...  \n",
       "../../Data/NanoinformaticsTXT/Kostoff_J.txt         data mining tomography office naval research n...  \n",
       "../../Data/NanoinformaticsTXT/Chiesa_Maojo_INVE...  part berlin building index automatic approach ...  \n",
       "../../Data/NanoinformaticsTXT/Liu_Cohen_CompSci...  screening data analysis institute university c...  \n",
       "../../Data/NanoinformaticsTXT/Oksel_Particuolog...  article content available jo ur home page loca...  "
      ]
     },
     "execution_count": 8,
     "metadata": {},
     "output_type": "execute_result"
    }
   ],
   "source": [
    "def getDocumentsFrom(mapping_df):\n",
    "    documents_array = []\n",
    "    for index, row in mapping_df.iterrows():\n",
    "        documents_array.append(build_data_frame(row[\"Directory\"], row['Label']))\n",
    "    return pd.concat(documents_array)\n",
    "\n",
    "documents = getDocumentsFrom(mapping_df)\n",
    "documents.head()"
   ]
  },
  {
   "cell_type": "markdown",
   "metadata": {},
   "source": [
    "### Our documents are in order so we need to shuffle them"
   ]
  },
  {
   "cell_type": "code",
   "execution_count": 9,
   "metadata": {},
   "outputs": [
    {
     "data": {
      "text/html": [
       "<div>\n",
       "<style>\n",
       "    .dataframe thead tr:only-child th {\n",
       "        text-align: right;\n",
       "    }\n",
       "\n",
       "    .dataframe thead th {\n",
       "        text-align: left;\n",
       "    }\n",
       "\n",
       "    .dataframe tbody tr th {\n",
       "        vertical-align: top;\n",
       "    }\n",
       "</style>\n",
       "<table border=\"1\" class=\"dataframe\">\n",
       "  <thead>\n",
       "    <tr style=\"text-align: right;\">\n",
       "      <th></th>\n",
       "      <th>class</th>\n",
       "      <th>text</th>\n",
       "    </tr>\n",
       "  </thead>\n",
       "  <tbody>\n",
       "    <tr>\n",
       "      <th>../../Data/ToxicologyTXT/Takahashi_Nanotechnology_2006.txt</th>\n",
       "      <td>TOX</td>\n",
       "      <td>institute physic gold cell death department ph...</td>\n",
       "    </tr>\n",
       "    <tr>\n",
       "      <th>../../Data/SynthesisTXT/Li_J Am Chem Soc_2003.txt</th>\n",
       "      <td>SYN</td>\n",
       "      <td>synthesis nearly via successive ion layer adso...</td>\n",
       "    </tr>\n",
       "    <tr>\n",
       "      <th>../../Data/EnvironmentTXT/Du_RSC Adv.txt</th>\n",
       "      <td>ENV</td>\n",
       "      <td>paper pu ar ow de view article view journal vi...</td>\n",
       "    </tr>\n",
       "    <tr>\n",
       "      <th>../../Data/SynthesisTXT/Bakueva_Adv.txt</th>\n",
       "      <td>SYN</td>\n",
       "      <td>ie ie ie</td>\n",
       "    </tr>\n",
       "    <tr>\n",
       "      <th>../../Data/ToxicologyTXT/Lee_Small_2009.txt</th>\n",
       "      <td>TOX</td>\n",
       "      <td>toxicity testing cell culture toxicity toxicit...</td>\n",
       "    </tr>\n",
       "  </tbody>\n",
       "</table>\n",
       "</div>"
      ],
      "text/plain": [
       "                                                   class  \\\n",
       "../../Data/ToxicologyTXT/Takahashi_Nanotechnolo...   TOX   \n",
       "../../Data/SynthesisTXT/Li_J Am Chem Soc_2003.txt    SYN   \n",
       "../../Data/EnvironmentTXT/Du_RSC Adv.txt             ENV   \n",
       "../../Data/SynthesisTXT/Bakueva_Adv.txt              SYN   \n",
       "../../Data/ToxicologyTXT/Lee_Small_2009.txt          TOX   \n",
       "\n",
       "                                                                                                 text  \n",
       "../../Data/ToxicologyTXT/Takahashi_Nanotechnolo...  institute physic gold cell death department ph...  \n",
       "../../Data/SynthesisTXT/Li_J Am Chem Soc_2003.txt   synthesis nearly via successive ion layer adso...  \n",
       "../../Data/EnvironmentTXT/Du_RSC Adv.txt            paper pu ar ow de view article view journal vi...  \n",
       "../../Data/SynthesisTXT/Bakueva_Adv.txt                                                      ie ie ie  \n",
       "../../Data/ToxicologyTXT/Lee_Small_2009.txt         toxicity testing cell culture toxicity toxicit...  "
      ]
     },
     "execution_count": 9,
     "metadata": {},
     "output_type": "execute_result"
    }
   ],
   "source": [
    "def shuffle(docs):\n",
    "    return docs.reindex(np.random.permutation(docs.index))\n",
    "\n",
    "documents = shuffle(documents)\n",
    "documents.head()"
   ]
  },
  {
   "cell_type": "markdown",
   "metadata": {},
   "source": [
    "### The text is junk and needs to be cleaned."
   ]
  },
  {
   "cell_type": "code",
   "execution_count": 11,
   "metadata": {},
   "outputs": [
    {
     "data": {
      "text/html": [
       "<div>\n",
       "<style>\n",
       "    .dataframe thead tr:only-child th {\n",
       "        text-align: right;\n",
       "    }\n",
       "\n",
       "    .dataframe thead th {\n",
       "        text-align: left;\n",
       "    }\n",
       "\n",
       "    .dataframe tbody tr th {\n",
       "        vertical-align: top;\n",
       "    }\n",
       "</style>\n",
       "<table border=\"1\" class=\"dataframe\">\n",
       "  <thead>\n",
       "    <tr style=\"text-align: right;\">\n",
       "      <th></th>\n",
       "      <th>class</th>\n",
       "      <th>text</th>\n",
       "    </tr>\n",
       "  </thead>\n",
       "  <tbody>\n",
       "    <tr>\n",
       "      <th>../../Data/ToxicologyTXT/Takahashi_Nanotechnology_2006.txt</th>\n",
       "      <td>TOX</td>\n",
       "      <td>institute physic gold cell death department ph...</td>\n",
       "    </tr>\n",
       "    <tr>\n",
       "      <th>../../Data/SynthesisTXT/Li_J Am Chem Soc_2003.txt</th>\n",
       "      <td>SYN</td>\n",
       "      <td>synthesis nearly via successive ion layer adso...</td>\n",
       "    </tr>\n",
       "    <tr>\n",
       "      <th>../../Data/EnvironmentTXT/Du_RSC Adv.txt</th>\n",
       "      <td>ENV</td>\n",
       "      <td>paper pu ar ow de view article view journal vi...</td>\n",
       "    </tr>\n",
       "    <tr>\n",
       "      <th>../../Data/SynthesisTXT/Bakueva_Adv.txt</th>\n",
       "      <td>SYN</td>\n",
       "      <td>ie ie ie</td>\n",
       "    </tr>\n",
       "    <tr>\n",
       "      <th>../../Data/ToxicologyTXT/Lee_Small_2009.txt</th>\n",
       "      <td>TOX</td>\n",
       "      <td>toxicity testing cell culture toxicity toxicit...</td>\n",
       "    </tr>\n",
       "  </tbody>\n",
       "</table>\n",
       "</div>"
      ],
      "text/plain": [
       "                                                   class  \\\n",
       "../../Data/ToxicologyTXT/Takahashi_Nanotechnolo...   TOX   \n",
       "../../Data/SynthesisTXT/Li_J Am Chem Soc_2003.txt    SYN   \n",
       "../../Data/EnvironmentTXT/Du_RSC Adv.txt             ENV   \n",
       "../../Data/SynthesisTXT/Bakueva_Adv.txt              SYN   \n",
       "../../Data/ToxicologyTXT/Lee_Small_2009.txt          TOX   \n",
       "\n",
       "                                                                                                 text  \n",
       "../../Data/ToxicologyTXT/Takahashi_Nanotechnolo...  institute physic gold cell death department ph...  \n",
       "../../Data/SynthesisTXT/Li_J Am Chem Soc_2003.txt   synthesis nearly via successive ion layer adso...  \n",
       "../../Data/EnvironmentTXT/Du_RSC Adv.txt            paper pu ar ow de view article view journal vi...  \n",
       "../../Data/SynthesisTXT/Bakueva_Adv.txt                                                      ie ie ie  \n",
       "../../Data/ToxicologyTXT/Lee_Small_2009.txt         toxicity testing cell culture toxicity toxicit...  "
      ]
     },
     "execution_count": 11,
     "metadata": {},
     "output_type": "execute_result"
    }
   ],
   "source": [
    "documents['text'] = documents['text'].map(lambda x: clean_text(x))\n",
    "documents.head()"
   ]
  },
  {
   "cell_type": "markdown",
   "metadata": {},
   "source": [
    "### Define our training vectors "
   ]
  },
  {
   "cell_type": "code",
   "execution_count": 12,
   "metadata": {},
   "outputs": [
    {
     "data": {
      "text/plain": [
       "array([ 'institute physic gold cell death department physic chemistry graduate school engineering university japan department applied chemistry faculty engineering university japan center future chemistry university japan received june final form august abstract combined use gold irradiation cell death laser irradiation also induced spherical since absorption region successive laser irradiation affect advantageous unwanted cell damage following destruction target introduction gold gold unique optical absorption spectrum show two correspond transverse longitudinal surface transverse band visible region around longitudinal band region thus unusual intense absorption band region previously laser irradiation onto longitudinal induced release recently al release enhancement gene expression key factor laser induced spherical photosensitization major research topic photochemistry provide new technology treatment combination light induce selective cell death leaving normal intact particular light useful treating due deep transmission body without significant tissue damage author correspondence point view therapy example west ablation heat due absorption continuous laser radiation selective cell destruction despite unique optical hardly used biochemical biophysical due bromide cationic detergent used agent preparation large amount solution biological highly cytotoxic thus essential alternative agent al polyethylene glycol recently group continuous laser irradiation induced cell destruction distinct region allow efficient conversion hand significant also cell death single laser light excessive heat around short period laser irradiation useful destruction single present work printed al demonstrate unique conversion laser irradiation useful selective cell destruction unique useful unwanted cell damage experimental section preparation gold prepared previously method average length width respectively aspect ratio zeta potential el electronics laser study zeta potential calculated equation used theoretical model spherical although value qualitatively magnitude zeta potential sufficient relative evaluation surface charge initial solution zeta potential prepared chloroform solution precipitated solution kept refrigerator precipitated removed membrane filter pore size residual solution extracted chloroform solution egg yolk two additional extraction aqueous solution water cell viability slight modification assay briefly plated well plate incubation solution added medium fetal bovine serum well study solution order evaluate cell viability cell counting kit added medium incubation measured well reader model reader laser irradiation cultured gold laser irradiation plated density well glass plate used following incubation culture medium removed mixed appropriate saline buffer medium incubation irradiated fundamental light laser continuum pulse duration repetition rate beam diameter figure absorption spectrum inset image clean bench exposure light cell viability following laser irradiation cell counting kit ten cell counting kit added medium incubation measured well reader absorption spectroscopy cell counting kit min remove colloidal gold mixed absorb light confirmed centrifugation affect cell absorption spectrum spectrophotometer laser irradiation cultured spherical gold order obtain spherical gold laser light used irradiation dispersed medium used cultured laser irradiation solution min produced spherical gold longitudinal spherical solution well plate cultured incubation laser light used irradiate min presence finally following additional incubation cell discussion absorption spectrum solution shown figure spectrum typical dispersed solution two corresponding longitudinal transverse oscillation zeta potential quantitatively previous paper remarkably modification confirmed least solution hardly experimental shown figure laser irradiation time cell viability following laser irradiation medium gold cell death figure viability following laser irradiation without medium medium figure absorption spectrum without laser irradiation buffer laser irradiation time min concentration cell viability without laser irradiation hardly negligible experimental absence laser irradiation triggered cell damage figure hand presence cell viability increasing laser irradiation time case figure min laser irradiation almost case figure cell min laser irradiation respectively thus obvious reaction induced cell death depending concentration laser irradiation time figure absorption spectrum without figure laser irradiation spectrum without laser irradiation figure longitudinal band figure formed small buffer spectrum intense absorption longitudinal band min laser irradiation figure band region remarkably spherical laser irradiation laser irradiation min figure intensity shoulder peak region single peak around spherical particle ref el lit figure cell viability without ref laser irradiation min min laser irradiation added concentration medium figure cell viability different irradiation laser irradiation total energy irradiation fixed since hardly absorbed laser light min laser irradiation total irradiation min additional spectral figure noted rate cell viability figure suppressed irradiation time longer min roughly consistent cell viability figure cell death suppressed figure cell viability min laser irradiation cultured presence figure column figure column solution irradiated min laser light order induce transformation spherical content solution shape identical solution laser irradiation min induced almost cell death presence figure column contrast spherical gold hardly triggered cell death figure column despite presence sufficient gold damage thus certainly cell death damage achieve selective cell death without unwanted damage cell viability following various irradiation presence shown figure total energy laser irradiation laser irradiation reputation al frequency despite energy cell significantly different laser irradiation induced almost cell death contrast irradiation smaller pulse energy laser irradiation hardly affected cell viability considering higher energy laser irradiation figure smaller energy laser irradiation advantageous energy energy inconsistent figure thus key factor cell death heat unique induced laser light general continuous laser cell destruction energy hand certain laser moment thus cell viability figure consistent disappearance figure summary combination light cell death reaction laser irradiation induced cell death simultaneously induced spherical key point present research disappearance longitudinal band general photoactivity damage normal treatment light show absorption region successive laser irradiation affect advantageous unwanted damage therefore selectively laser irradiation induce cell death without normal al staining living cell death induced continuous laser irradiation present paper novel photochemical system therapy treatment infectious irreversible recently spherical gold could surface next goal series investigate therapy mouse targeted study part research japan society promotion science young scientific research priority area molecular dynamic scientific research ministry education culture sport science technology chang lee wang murphy li rev link field soc lin wang soc van lier drug today soc price hazle west west cancer loo lowery west kim song yang soc murphy murphy mater bender murphy murphy small surf mater soc wang soc link link gold cell death link wang chang shih lai wang mater muller nat wang control release introduction experimental section preparation gold laser irradiation cultured gold laser irradiation cultured spherical gold discussion',\n",
       "       'synthesis nearly via successive ion layer adsorption reaction jack li wang contribution department chemistry biochemistry university joint university university department physic astronomy university received may abstract successive ion layer adsorption reaction originally deposition thin solid solution technique growth compound growth shell designed grow one monolayer time alternating inexpensive cationic anionic reaction mixture core model system optical spectrum elemental reaction system relatively high temperature found essential fully occur synthesis readily scale size distribution even five shell equivalent time volume increase grown onto core growth optical spectroscopy photoluminescence quantum yield core shell ranged even core several brightening phenomenon boost found superior comparison highly luminescent plain core technique also used growth complex colloidal semiconductor quantum colloidal quantum introduction colloidal semiconductor great fundamental industrial interest due flexible chemistry many grown semiconductor critical importance shell higher band gap core material band core lower conduction band higher valence band comparison shell electron hole inside mostly confined core consequently typically show bright photoluminescence electroluminescence stable photooxidation example quantum yield core shell high although routinely recent reveal may also university joint university science heath special issue soc smith soc manna li soc hanif mater kan science gin science web chemical society soc chemically thermally stable corresponding plain core recent advancement synthesis semiconductor made possible obtain highly luminescent plain core unfortunately stability plain core far ideal many instability poor may intrinsic therefore desired either must undergo complicated chemical require constant excitation quality yet plain core size size distribution control two critical size distribution growth shell include elimination homogeneous nucleation shell homogeneous monolayer growth shell onto core solution yielding shell nearly thickness around core principle reactivity weak enough prevent independent nucleation sufficiently strong promote growth around core therefore relatively stable inexpensive relatively safe alternative growth traditional organometallic dimethyl cadmium dimethyl zinc le active much easier control case development alternative synthetic plain core brief report synthesis zinc stearate zinc precursor se precursor solvent al recently unfortunately much structural characterization although impressively high efficiency based limited information clear size distribution significantly worse original core although al careful choosing growth dropwise addition shell growth solution fact preliminary convinced u alternative alone unlikely sufficient improvement size distribution interesting concept ale molecular beam literature attention ale molecular anionic cationic specie switched alternating pattern way monolayer grow period either cationic anionic beam cationic anionic specie coexist growth chamber local nucleation substrate gas phase consequently thin film manner concept extended deposition thin onto solid solution bath successive ion layer adsorption reaction impressive recently park al revealed successful technique growth thin work apply concept toward growth solution test principle optimize growth chose model system optical system provide convenient probe determine size size distribution resulting growth experimental section cadmium oxide selenium mesh powder oxide topo ode oleic acid oda stearic acid avocado organic em used directly without purification choice reaction system ode selected solvent core two injection relatively low melting point relatively high boiling point low cost low toxicity low reactivity excellent solvation power many elevated make ode ideal solvent growth general elemental chosen growth shell onto core oda used proven good highly luminescent plain core synthesis core highly fluorescent made procedure previously typical reaction mixture stearic acid ode flask obtain colorless clear solution solution room temperature oda soc lee mater coe woo nature li wang soc soc de hickey science han nat science hull soc allan bard campion fox webber white newton soc soc sitter molecular beam current status rev springer new york thin solid park clark bender wager science li al soc vol topo added flask argon flow system temperature selenium solution made dissolving se ode quickly growth temperature reduced typically reaction size first absorption peak around reaction mixture cool room temperature extraction procedure used purify side layer excess extracted layer particle concentration solution stock solution growth measured law extinction procedure previously two loading tested core first method never precipitated solution directly loaded solution purification core extraction method recently second loading method similar one literature growth core precipitate loaded reaction flask experimental revealed first approach loading necessary growth formed precipitation loading injection cadmium injection solution prepared dissolving oleic acid ode injection solution prepared dissolving ode injection made ar flow clear injection solution cool injection solution cool room temperature injection calculated amount given injection solution taken syringe standard procedure technique based alternating solution growth amount cadmium layer determined number surface given size lattice mismatch bulk based wurtzite structure average thickness one monolayer taken one additional layer growth would increase diameter example typical experiment core first layer shell growth additional growth second layer typical synthesis diameter mixed oda ode flask flask room temperature mechanical pump min remove another min remove residual air system subsequently system switched ar flow reaction mixture first injection injection solution subsequent injection calculated method monitor reaction taken first minute injection every min absorption observable change absorption spectrum two successive injection another shell component either layer next layer executed reaction reaction mixture cool final product diluted extraction precipitated acetone solution excess removed dissolving chloroform acetone reaction temperature varied study temperature effect growth reaction kept typical synthesis synthesis procedure readily extended scale typical synthesis solution size mixed ode oda flask removal air vacuum mixture argon atmosphere injection growth injection used synthesis injection step first layer injection solution second layer injection solution third layer injection solution fourth layer injection solution fifth layer fast stirring place injection need added dropwise manner injection rate limited pore size needle le injection solution reaction raw acetone precipitation centrifugation purification dried weighed optical absorption spectrum measured diode array spectrophotometer photoluminescence photoluminescence excitation measured fluorescence spectrophotometer quantum yield determined organic known quantum yield standard following previously method data work standard gave u significantly lower comparison reference transmission electron microscopy taken transmission electron microscope acceleration voltage acetone precipitation chloroform solution extraction copper dipped toluene deposit onto film randomly substrate diluted solution first absorption peak densely selected area electron diffraction taken camera length taken microscope onto carbon film copper powder diffraction diffractometer essential remove excess oda obtain meaningful diffraction photoelectron spectroscopy vacuum radiation dual anode source hemispherical analyzer pa mater wang soc synthesis soc vol energy used elemental different shell plain core taken reaction remove dispersed toluene onto clean gold surface wafer toluene evaporate introduction vacuum relative intensity variation se system simple monte simulation simulation used core diameter monolayer shell thickness simulation associated appropriate chemical specie uniformly core shell total signal photoelectron core level weighted sum electron weighted electron perpendicular path length electron inelastic mean free path used core determined ref photooxidation photooxidation standard method line argon ion laser power laser beam diameter sample oxygen ar photoluminescence spectrum measured radiation thin film deposition plain core onto glass spin coating toluene spectrum thin taken crosspoint excitation beam normal direction detector angle relative excitation beam spectrum two original excitation spectrum two thin film intensity thin excitation surface modification acid core standard procedure previously carried water reaction temperature critical role growth shell onto ode figure top plot evolution peak position injection either cadmium solution different reaction evolution effect shell thickness run identical core sample used evidently thickness shell injection systematically reaction temperature temperature impact significantly figure top plot work best high system importantly absorption spectrum core reaction system show noticeable change system least min without injection system carefully core first min often initial heating period even higher example made difficult prevent ripening core except explicitly report reaction temperature lower added solution grow surface instead formed isolated homogeneous nucleation process figure middle plot spectral comparison shell thickness grown batch core different relative first absorption peak range electron national institute technology wang li soc figure top accumulative value first absorption peak due growth shell injection plotted different reaction middle formation isolated relatively low extremely high low even thin shell bottom spectrum removal isolated li al soc vol rapidly formation individual pointed even formation individual may still occur shell thickness four probably due amount added calculation experimental example growth five shell onto size total number per particle time greater original therefore small initial error may result significant fortunately isolated formed growth process could easily extraction precipitation extraction method extracted layer layer radiation layer blue light layer purification spectrum dramatically different figure bottom plot shown figure bottom plot existence isolated solution typically significant drop signal due absorption isolated spectral window size shape distribution well figure four plain core corresponding different shell increase particle size well nearly core formed good one two shell formed three formed local order thick shape noticeably elongated form randomly low particle orientation elongated core shell relatively concentrated solution experimental section possible obtain figure appearance almost shown figure long axis perpendicular grid selected area electron diffraction shown figure reveal perpendicular substrate furthermore pattern long axis wurtzite structure result shown figure shape significantly elongated along close dimension along top two figure dimension perpendicular small portion plain core corresponding different shell thickness reaction figure thick shell formed particle concentration deposition solution high left corresponding diffraction intensity randomly top row bottom row synthesis soc vol layer found close see bottom two figure overall distribution aspect ratio thick narrow dimension short axis elongation along also plain core existence elongation along may either elongation original core indicate growth thick system might occur beyond single monolayer time possibly due inaccuracy addition diffraction wurtzite wurtzite pattern upon increase shell thickness trend previously although previous report le three shell shell diffraction pattern almost size figure crystal domain size calculated equation peak consistent domination pattern thick shell given ratio relatively low peak height large peak width peak comparison peak diffraction pattern shown figure consistent perpendicular figure core shell shown figure left panel decrease increase shell thickness zero four directly uniform coating uniformity shell growth confirmed plotting versus shell thickness figure right comparison data computer simulation solid dashed good agreement spectrum typical reaction figure left panel sharp absorption spectrum narrow consistent narrow size distribution shown spectrum thick typically shoulder high energy side relative intensity shoulder away side initial see although shoulder band edge emission shoulder emission comparison band soc figure four representative core five shell figure pattern core five shell comparison standard powder diffraction wurtzite bulk provided figure left spectrum core right comparison experimental simulation ratio figure left evolution spectrum core shell upon growth shell typical reaction right asymmetric five shell li al soc vol edge figure right panel shoulder likely bimodal size distribution nature shoulder need studied possibly shoulder could related spatially indirect electron hole wave thick shell mostly shell core respectively within shell thickness work shell thickness figure plain core prior shell growth varied significantly even carried batch core shown figure however batch peak two parallel similar figure growth core shell significantly lower comparison although systematic increase also increase shell thickness figure original value original within experimental error figure top consistent good control size distribution however spectrum thick five often possessed tail high energy side growth method quality resulting similar small scale synthesis fact shown synthesis found even synthesis dropwise addition precursor necessary darkening brightening phenomenon work figure growth process especially relatively low darkening process right injection stock solution darkening rapid increase shell thickness quick absorption peak always previously significantly system addition stock solution case sometimes small emission peak figure however brightening phenomenon found reproducible unexpected brightening phenomenon either extraction precipitation method removal side figure although emission peak position purification moment clear solution affected manna al work could also oxygen present solution brightening always noticeable spectrum size semiconductor imply brightening phenomenon due photooxidation shell material interestingly rate photooxidation strongly dependent environment although much rate comparison corresponding plain core water polar photooxidation hydrophilic relatively fast rate see example shown figure nonpolar oxidation day show noticeable change thin polymer photooxidation air even intense laser radiation highly luminescent core within figure versus number figure darkening brightening phenomenon growth manipulation synthesis soc vol superior corresponding core figure precipitation extraction purification highly luminescent core emission almost extinguished parallel precipitation procedure maintain reasonable brightness core purification must stop significant amount free amine remains solution along plain core free amine solution actually serious problem plain core thin opaque noticeable white even free emission efficiency plain core significantly thin contrast formed optically clear thin furthermore even though solution le bright plain core solvent form solid figure due better le scattering typical method make hydrophobic semiconductor water soluble replace original hydrophobic hydrophilic amine hydrophilic highly plain core emission figure contrast core shell partially treatment furthermore brightness partially photochemical figure chemical oxidation generally oxidation rapidly decomposed plain core without noticeable recovery colloidal often withstand harsh chemical thermal certain revealed significantly stable corresponding plain core harsh discussion grown structure resulting determined criterion established previously immediate significant absorption spectrum growth monolayer resulting rather alloy directly confirmed uniform growth shell figure indicate single lattice figure extend completely across directly growth reaction temperature dramatically growth figure technique fully reaction temperature sufficiently high evidently reactivity precursor limiting factor interestingly competitive process formation isolated homogeneous nucleation solution significantly lower reaction temperature figure general assumption high benefit homogeneous nucleation rather growth appear correct system abnormal phenomenon important feature growth inherent high largely growth prior addition next added system possibility grow onto contrast low solution energy barrier growth subsequent introduction reaction solution react form isolated reactive precursor employed temperature growth may systematic molecular level mechanistic helpful development optimal reactivity highly crystalline semiconductor strongly dependent surface example emit well specific type attached surface coated surface appropriate temperature similarly plain core significantly growth first monolayer shell relatively small band leave core press lee figure comparison plain core spectrum plain core purification procedure spectrum plain core upon deposition onto bottom spectrum plain core coated hydrophilic li al soc vol shell sensitive environmental figure previous revealed ideal formation highly however fatty better unfortunately growth fatty desired temperature found difficult often precipitation different stability may come net negative carboxylate surface switching positive negative process neutral beneficial darkening phenomenon right introduction rapid growth rapid growth disorder surface conversely subsequent may explain brightening shown figure related text section indicate oda bound tightly surface however case corresponding core low difference different higher promote surface passivation oda either strong bonding high surface coverage distinguish two technique proven versatile growth complex semiconductor solution colloidal semiconductor considered task field colloidal semiconductor intrinsic feature technique precise thickness control without homogeneous nucleation shell made possible grow colloidal quantum colloidal quantum financial support acknowledged grateful research assistant fellowship provided center technology research university soc li wang accepted publication synthesis soc vol',\n",
       "       'paper pu ar ow de view article view journal view issue oxide key laboratory pollution education key laboratory en control college environmental china electronic supplementary information physicochemical richness diversity bacterial control soil sample organic extracted ra separation fig bacterial fig th fig fig spectrum organic extracted surface charge see cite received th accepted th march journal royal society bacterial community property soil extensive use pristine oxide environmental release one ultimate remain unclear present study analysis based bacterial gene bacterial community sample diverse control soil sample structure soil bacterial dissimilatory iron reducing bacteria selectively especially genus level oxide greater thickness higher ratio rougher texture lower transparency smaller size al si ca fe surface consistent formation organic coating negative unstable addition higher chemical activity example unpaired disordered work critical soil deserve comprehensive consideration introduction oxide go advantage carrying useful precursor synthesis various rapidly increasing production use go increase possibility environmental release soil likely recipient contamination comparison water air nascent state industry critical early assessment environmental occur pristine oxide could potentially alter structure function soil microbial environmental criterion ministry remediation pollution engineering university available table ted soil table listing data sample table listing soil sample fig oxide showing fig wide spectrum fig showing fig showing distribution time might undergo result soil soil soil therefore understanding soil well formation go critical environmental fate carbon limited effect soil microbial low exert observable effect exposure high effect soil microbial still clear thus far majority impact soil pure aquatic example activity pure aquatic number functional via interaction coli reduction microbe fungi also additionally shown able alter via nitrogen bacteria however investigation soil simply aquatic solution pure culture soil extremely complex matrix numerous microorganism particular soil microbial sensitive indicator response environmental effect structure function microbial paper pu ar ow de view article obscure addition microbial occur simultaneously soil various soil could go interaction driven single truly characteristic natural environment isolation characterization go actual environmental scenario therefore necessary investigate characteristic verify assumption research gap present study soil bacterial community soil aer aging day analysis subsequently morphological surface chemical organic molecule coating finally size distribution surface unpaired disordered adsorption redox potential reveal chemical activity preparation collection soil incubation commercial purity advanced china based information provided supplier product version method stable suspension di water prepared via detailed literature surface soil collected agricultural eld district china silt physicochemical soil table plant leaf removed soil prior incubation soil dry weight triplicate weighed plastic average diameter height maximal capacity day stabilization microbial activity aer prepared suspension added soil mixed thoroughly facilitate separation soil high concentration dry soil prepared volume di water added soil finally greenhouse constant temperature moisture content soil maximal capacity di water aer day interaction soil soil bottom middle top every pot mixed triplicate soil combined extraction separation separation soil obtain soil powder ten soil powder transferred centrifuge tube water sufficiently min vortex mixer soil suspension transferred orbital shaker rotation oscillation min sediment bottom centrifuge subsequently divided two different color thick gray soil layer thin black layer fig sa aer removal aqueous phase wet stainless steel spoon aer combining parallel wet collected crude wet procedure finally wet washed thoroughly di water collected suspension membrane obtain powder fig used property characterization analysis offset characteristic due employed sample preparation oscillation lyophilization prepared procedure bacterial community analysis extraction bacterial extracted soil wet weight soil kit omega ga u according region bacterial gene via min extension min unique sample triplicate buffer primer template extracted gel extraction kit union city ca according equimolar subjected platform technology shanghai china raw sequence read archive accession number data raw version following criterion truncated site average quality score across sliding window truncated shorter showing exact matching nucleotide primer matching ambiguous removed according could journal royal society chemistry paper pu ar ow de view article organic solution volume ratio chloroform di water chloroform chromatographic grade solvent organic extracted organic intensively extracted extraction min centrifugation min supernatant collected sediment extracted second time solvent procedure second supernatant mixed supernatant water added supernatant mixture min lower layer nitrogen upper layer nitrogen water hydrochloride used sample gas chromatography column split mode combined quadrupole mass spectrometry used analyze organic separation capillary column id thickness injection temperature transfer line ion source spectrometer mode detection voltage full scan range helium carrier gas constant ow rate min oven temperature min rate min min organic library characterization surface via scanning electron microscopy transmission electron microscopy atomic force microscopy dispersed absolute ethanol instrument instrument japan respectively size distribution zeta potential measured instrument laser corporation surface chemistry via photoelectron spectroscopy transform infrared spectroscopy axis ultra system japan monochromatic al ka source spectrum spectrum tensor infrared spectrometer resolution spectrum collected tu spectrophotometer china subsequently journal royal society chemistry spectrum via spectrometer laser thermo eh measured potentiometer china measure unpaired related chemical activity electron paramagnetic resonance spectrum collected room temperature spectrometer microwave frequency magnetic eld modulation frequency spectrometer control unpaired electron probe tempo employed concentration individual quartz loaded quartz washed thoroughly water dried data analysis statistical analysis process data clustered operational taxonomic similarity cutoff version removed chimeric basis cluster information rarefaction richness chao abundance coverage estimator ace diversity index sample phylogenetic affiliation gene sequence silva ssu threshold aer taxonomic phylum class order family genus level relative abundance given phylogenetic group set number group divided total number per sample hierarchical cluster analysis project diagram unique drawn depict among triplicate error represent standard deviation mean standard deviation calculated statistic discussion richness diversity bacterial two gene via bacterial sample control soil sample generating respectively paper pu ar ow de view article operational taxonomic found respectively distance listed table total based chao index sampling distance chao index richness soil bacterial community slightly aer introduction soil rarefaction shown fig sa index diversity bacterial population specie richness specie evenness also slight increase shown fig among two unique unique fig sa diagram two also bacterial diverse taxonomic unique phylum level fig found majority unique assigned common phylum ie total common phylum respectively taxonomic composition bacterial characterize bacterial driven bacterial assigned phylum class genus shown fig dominant phylum class genus phylum level known phylum total ie common respectively class level known class total ie bacillus common respectively genus level known genus total ie common respectively large found bacterial phylum class however clear difference two genus level among bacterial genus bacterial genus absent present also included genus genus bacteria aer soil specie dependent rather gram dependent investigate structural functional bacterial detailed cluster analysis genus level listed fig known bacterial genus higher relative abundance diverse phylum genus phylum genus assigned phylum ie among bacterial genus showing lower abundance genus assigned streptococcus genus assigned genus abundance genus abundance therefore bacterial population abundance also bacterial specie dependent rather gram dependent recent report antibacterial activity bacterial specie dependent rather gram dependent aquatic environment well present investigation similar soil environment addition genus belong phylum higher abundance community bacteria found capacity dissimilate nitrate nitrite nitrous oxide nitrogen gas severe oxygen limitation relative abundance genus also genus composed dissimilatory iron reducing bacteria also phylum taken together show alter soil bacterial community selectively soil aer introduction especially genus level surface morphology microbial subsequently occur simultaneously soil study morphology aer soil fig sa show morphology however rougher texture distributed surface fig transparency lower black uneven size appear black shown fig se chemical black include essential found well al si ca fe journal royal society chemistry fig taxonomic classification bacterial found sample control soil sample phylum class genus phylum class genus accounting le total composition library paper pu ar ow de view article soil shown image fig layer morphology thickness consistent go contrast uneven thinner respectively image correspond black surface chemical surface chemistry via full spectrum fig spectrum whereas spectrum well contribution ie al si ca fe consistent analysis black shown fig se inorganic soil could adsorb electrostatic attraction fig organic spectrum revealed carbon hydroxyl spectrum found composite consistent spectrum fig functional notably journal royal society chemistry respectively aging process soil literature functional via interaction environmental bacteria coli mechanism underlying bacterial transformation reduction bacterial respiration glycolysis coli terminal electron acceptor reduction addition reduction yeast endophytic also soil potential repository soil widely distributed among variety specie possessing different metabolic reduction interaction soil could ubiquitous via aging soil additionally methylene spectrum fig introduction carbon chain could increase ratio new observation surface aging process soil bonding nitrogen spectrum spectrum could two corresponding pyrrolic respectively plane rather incorporated spectrum bond spectrum could nitrate nitrite widely found soil consistent fig hierarchical cluster analysis abundant genus soil sample control soil sample relationship among determined distance complete clustering method color intensity scale relative abundance genus relative abundance defined number taxon divided total number per sample paper pu ar ow de view article regarding bulk spectrum pyrrolic spectrum could organic nitrogen soil soil microbial metabolic organic investigate organic organic shown fig organic included organic benzene natural organic soil example organic could raw soil sample phenol acid hexadecanoic acid undecane octadecanoic acid benzene benzaldehyde table many oxygen oh cho active dangling organic carboxyl phenolic hydroxy benzene could bind via journal royal society chemistry fig photoelectron spectrum spectrum paper pu ar ow de view article hydrogen organic ratio observation observation analysis size distribution surface size distribution surface play dominant environmental behavior associated ecological shown fig sa size distribution ranged size distribution ranged data size aging process soil environmental peroxidase soil similar may also take place carried many specie soil secrete various resulting change size distribution zeta potential function fig surface negative environmentally relevant regarding zeta potential greater number negative stable chemical activity unpaired associated directly affect chemical activity shown fig intense control without suggesting journal royal society chemistry potential produce unpaired slightly unpaired suggesting chemical activity enhanced following soil unpaired known associated disordered dangling turn inner disordered assessed based spectrum shown fig band usually related carbon band vibration carbon intensity ratio band band higher suggesting disordered structure enhanced aer soil result consistent enhancement unpaired absorption spectrum photochemical activity fig absorption spectrum respectively band peak spectrum markedly higher spectrum peak unsaturated ketone unpaired organic peak absorption spectrum shied suggesting electron concentration due increase carbon enhanced structural disorder furthermore absorption remarkably region suggesting fig electron paramagnetic resonance spectrum spectrum spectroscopy eh prepared water analysis eh electron paramagnetic resonance analysis tempo employed unpaired electron scavenger spectrum intensity ratio band band error represent standard triplicate paper pu ar ow de view article electronic conjugation within upon immobilization chemical soil one chemical activity eh function fig eh increasing eh higher range due aging soil reduced size fig sa could enhance redox potential chemical activity furthermore soil introduction new chemical bond fig spectrum could cause present higher redox potential conclusion soil bacterial diverse due exposure nitrogen dissimilatory iron reducing bacteria genus selectively simultaneously soil organic go negative unstable addition higher chemical activity example unpaired disordered work national natural science foundation china grant ministry education china innovative team project grant natural science foundation grant specialized research fund doctoral program higher education china grant postdoctoral science foundation china grant fundamental research fund central grant',\n",
       "       ...,\n",
       "       'relative risk analysis several insurance industry context rice university main street golder suite insurance po box relative risk assessment industrial fabrication several production five selected analysis based current potential production commercialization carbon bucky one variety quantum dioxide assessment surrounding fabrication exclusive representative synthesis method selected based potential list input output waste step fabrication included key process temperature pressure used as relative risk based volatility flammability toxicity persistence first used qualitatively rank risk combined actuarial protocol insurance industry purpose calculating insurance chemical protocol three risk relative point scale maximum risk incident risk normal risk latent contamination risk analysis determined relative environmental risk five comparatively low relation common industrial introduction production significant derived inevitably result introduction atmosphere hydrosphere biosphere composition may closely resemble considerable information health environmental impact absence data material safety data treat like bulk despite unique case often carbon black distinctive based size shape surface functionality relative mass uniformity material may produce differ compositionally similar although many beginning appear literature toxicity potential exposure regarding human health environment remain largely speculative many surrounding fate environment human health great deal known used produce industry important goal ensure human health environment due fabrication minimal indeed industry tremendous opportunity evolve green industry experience previous industrial objective study as relative risk associated production five specific thereby information concerning new industry assessment associated handling production process surrounding possible direct although calculated great uncertainty able arrive relative risk regarding process known also compare calculated relative production industrial production five different considered work carbon bucky quantum composed zinc selenide dioxide selected based current potential commercialization production beyond laboratory scale case potentially scalable synthesis method articulated process appropriate use study available data constituent could likely scaled industrial production based cost availability energy use full assessment assessment instead risk focus considered risk perspective constituent overall process risk conceptually product hazard exposure collected purpose hazard exposure probability detailed account input output waste step fabrication used as relative risk based toxicity flammability persistence environment first qualitatively assessed process combined actuarial protocol corresponding author phone rice university golder insurance environ e chemical society vol environmental science technology web insurance industry purpose calculating insurance chemical schematic full process fabrication data enable risk assessment seen figure identification synthesis first understand synthesis fabrication goal finding representative production technique suitable likely used industry chosen study table identification detailed chosen synthesis expressed simplified building block part flow diagram substance process synthesis step articulated detailed process map based method fabrication step process literature material input output waste portion method carbon figure full process five production available supporting information characterization collected first qualitatively via insurance collected fabrication data organized qualitatively characterize compare relative representation data relative risk five key constituent material fabrication process collected data regarding toxicity water solubility log flammability qualitative assessment additional data substance use insurance prepare calculating relative risk information system iterative process resulting definition chemical process according chemical physical insurance algorithm relative risk substance rank relative substance risk detailed figure noted numerical substance data relative risk class risk class group risk magnitude example entire spectrum possible given substance category scale substance characteristic value known typically case persistence photolytic relative risk class directly assigned based comparative substance research supporting information regarding risk class scoring insurance well table well listing material property data table si characterization defined risk based defined within constituent table fabrication chosen risk analysis reference description commercial status carbon al process known process currently use commercial production al production laminar flame proprietary process reference currently use mass production quantum al zinc selenide quantum recently method le expensive input current commercial unknown al aqueous synthesis subsequent thermolysis currently use commercial production al production hydrolysis chemical control particle size currently use commercial production figure schematic fabrication risk assessment methodology used study figure example synthesis step process map environmental science technology vol temperature pressure enthalpy figure process insurance algorithm substance involved process exception final product defined within particular fabrication process quantify contribution risk substance amount present role process physical phase temperature pressure process defined substance role model incorporate probability exposure substance whether exposure could result accident would resulting normal exposure would possible via information physical phase substance would upon reaching environment appropriate application persistence mobility data medium air soil water process emission factor determined order magnitude substance environment per ton product numerical emission scale grouped magnitude spectrum le greater set risk class ranging empirical often determine due lack experimental information regarding detailed mass waste due uncertainty involved scaling industrial fabrication emission quantity known order magnitude based comparative process research within stoichiometric calculation mass balance substance contribution risk process defined contribute potential hazard listing every data field insurance supporting information table si determination relative risk qualitative methodology since risk combination hazard exposure incorporated qualitative risk assessment potential substance taken account data toxicity via mobility via water solubility via log flammability via occupational safety health administration exposure potential also reflected product first substance characteristic qualitative scale grouped magnitude instance water solubility value le risk least mobile category value greater highest risk mobile category intermediate ranked middle water solubility qualitative therefore either low solubility medium solubility high solubility accumulation substance material process intended impart general indication magnitude risk process insurance methodology addition qualitative review insurance calculate relative risk figure schematic insurance formulation risk vol environmental science technology five hazard process defined based constituent substance lethal dose relevant process temperature pressure enthalpy fire hazard rating exposure portion persistence mobility constituent scoring process insurance currently commercial use able risk fabrication perspective industrial insurer type risk assessment although inclusive environmental representative type risk assessment encounter grapple relative risk new figure schematic actuarial protocol pictorial reference terminology used different within system numerical substance data relative risk class relative risk class combined determine substance hazard score insurance protocol provided three relative risk fabrication process incident risk normal risk latent contamination risk incident risk impact accident leading accidental exposure normal risk risk course fabrication process latent contamination potential contamination site risk corresponding temperature pressure combined calculate probability accident process expressed process incident probability class amount category assigned substance based relative amount used process wherein substance level risk risk corresponding toxicity persistence mobility data constituent substance combined calculate risk associated interaction air water soil cumulative risk score compound substance hazard risk class process incident probability class amount hazard risk class substance hazard risk class final risk air water soil due sudden release due normal given process incident risk risk determined function process hazard rating amount hazard substance substance hazard risk class actuarial adjustment coefficient forced final score distribution schematic risk class seen figure adjustment coefficient found supporting information normal risk calculated pathway combining constituent emission coefficient risk substance hazard risk class actuarial adjustment coefficient forced score distribution latent risk calculated combining final risk calculated soil water incident normal air calculation time frame latent contamination settled water soil final score incident risk normal risk highest three air risk water risk soil risk score highest risk substance affecting medium method taking highest risk medium based highest risk substance appropriate insurance intended approximate relative order magnitude admittedly practice choosing highest scoring constituent material rather accounting multiple use involve multiple hazardous process benzene toluene main one benzene since benzene highest substance hazard risk class however liability risk magnitude toluene process change consequent risk change order magnitude insurance perspective insurance methodology five chosen production calculation three final risk data individual substance determined based synthesis industry interview comparison common similar stoichiometric constituent substance often already present found material safety data environmental protection agency substance process attainable due uncertain nature final process normal clear three separate hypothetical therefore defined three determined fabrication process based represent range scope probable boundary least mostly information available quantum tried vary emission risk class magnitude low risk high risk data accessible production closer could made based reaction stoichiometry known lab detailed fabrication case information table si si insurance protocol comparison among perhaps important comparison common previously defined system premium calculation qualitative risk appear along six commonplace silicon wafer semiconductor production wine production plastic production automotive battery production petroleum refining aspirin production silicon wafer production key manufacture computer automotive battery production widespread found near many production petroleum refining pervade petrochemical industrial specifically dominant ship channel wine production interesting comparison would considered relatively benign process environmental science technology vol aspirin also included represent widespread pharmaceutical industry comparison taken directly current insurance underlying sole change removal final comparison consistently compare contribution insurance risk qualitative risk qualitative table show process constituent listed beneath constituent material received five chosen toxicity solubility log flammability five chosen comparison ranked substance data wherein characteristic grouped magnitude arrive relative available data insurance risk assigned relative compound chemically similar known relative first four considered substance irrespective process used represent hazard substance category exposure relative amount substance normal specific process lower toxicity flammability clearly le hazardous low water solubility le hazardous substance travel far low log le potential table show qualitative review five six comparison relative risk white circle low risk black circle intermediate risk two black high risk three black high relative risk fabrication shown range based three defined detailed supporting information table si si group fabrication appear constituent generally toxic also higher higher could part due uncertainty projecting change production established qualitative risk carbon production toxicity water solubility log flammability carbon monoxide sodium hydroxide iron pentacarbonyl carbon dioxide water table qualitative risk production toxicity water solubility log flammability benzene toluene argon nitrogen oxygen soot carbon carbon dioxide water table qualitative risk quantum dot production quantum toxicity water solubility log flammability nitrogen formamide heptane diethyl zinc hydrogen selenide carbon dioxide carbon monoxide table qualitative risk production toxicity water solubility log flammability acetic acid aluminum oxide water vol environmental science technology industrial perhaps become streamlined respect recapture recycle many hazardous employ may also involve use fully production develop final production process washing may require additional added process among production appear present lower risk quantum dioxide appear associated risk qualitative production appear le risky production petroleum refining quantitative risk insurance table show incident risk normal risk latent risk seen figure incident risk production score comparably lower common relative risk low comparison falling near wine production low hazard constituent absence extreme production primarily responsible quantum fall midrange incident risk near silicon wafer production automotive battery production petroleum refining aspirin production incident show highest risk close risk production fact chosen method one hazardous culprit material benzene risk category defined based present process synthesis provide enough information allow relatively confident characterization risk incident risk category reason error risk included incident risk unlike incident risk normal include constituent process range probable included scoring three different defined table qualitative risk dioxide production toxicity water solubility log flammability methane hydrochloric acid phosphoric acid titanium tetrachloride carbon dioxide table qualitative risk silicon wafer production silicon toxicity water solubility log flammability sodium hydroxide hydrochloric acid phosphoric acid hydrogen fluoride sulfuric acid acetone ethanol nitrogen anhydrous ammonia chlorine phosphine boron trifluoride hydrogen bromide silicon germanium arsine oxygen table qualitative risk wine production wine toxicity water solubility log flammability copper oxychloride water glucose dioxide environmental science technology vol underlying case result different production material figure variability normal risk score range midrange risk case main data point production scored single point previously established insurance fully variability data apply projecting production case quantum different cause final score differ magnitude range narrow normal risk show production low order scoring wine aspirin quantum highest three scoring similarly silicon automotive production petroleum refining scored higher production deal uncertainty involved chosen conservatively erring side higher therefore likely development may contribute reduced variability score lower overall risk well example case access production information normal risk prove narrow error lower overall another illustration possible trend toward lower mature high incident risk polyethylene production silicon wafer production low thus lower normal risk table qualitative risk plastic production plastic toxicity water solubility log flammability ethylene butylene propylene hydrogen hydrochloric acid vinyl acetate polyethylene styrene titanium tetrachloride alumina trihydrate magnesium hydroxide aluminum chloride cyclohexane triethyl aluminum acrylic acid methacrylic acid methyl acrylate methyl methacrylate isobutane chloride diethyl aluminum hydride titanium trichloride vanadium trichloride magnesium ethylate ethyl benzoate butyl alcohol silicon dioxide table qualitative risk automotive battery production automotive lead battery toxicity water solubility log flammability sulfuric acid calcium antimony arsenic tin soot lead lead oxide lead monoxide lead dioxide sodium perchlorate barium polyvinyl chloride hydrochloric acid vol environmental science technology figure similar latent among latent risk function incident normal respect soil water risk category show fabrication exception compare similarly silicon wafer wine aspirin production lower automotive battery refined petroleum production although production markedly higher score comparable latent contamination score automotive battery production significantly lower petroleum refining numerical three risk table along culprit material whose high score drove incident risk normal risk score table qualitative risk refined petroleum production refined petroleum toxicity water solubility log flammability thiophene benzene ethylenediamine xylene toluene paraffin oil silica crystalline methane ethylene butane butadiene dioxide hydrogen soot aluminum oxide vanadium pentoxide chromic oxide bitumen anhydrous ammonia carbon monoxide nitrogen dioxide phenol table qualitative risk aspirin production toxicity water solubility log flammability sodium phenolate phenol toluene acetic acid salicylic acid sodium salicylate acetic anhydride sulfuric acid sodium carbon carbon dioxide figure incident risk production figure normal risk production environmental science technology vol discussion study production risk assessment evaluation method appear unusual associated production bucky dioxide quantum carbon although used make include already existence understanding relative risk process important step field language risk assessment furthermore according established risk insurance risk assessment fabrication may present lower current petroleum refining polyethylene production synthetic pharmaceutical production several could examine refine empirical data regarding mass waste yield would help corroborate calculated theoretically based reaction stoichiometry since insurance protocol applied study process magnitude highest scoring material rather accounting multiple potential improvement would incorporation method cumulative contribution risk multiple significant would collection data regarding produced risk range seen normal scoring would primary benefit data qualitative suggest almost much constituent process handling could marked effect final risk successful recapture play key role lowering normal risk although conservation assumed risk could greatly mitigate rigorous process trend likely production greater scale infrastructure recapture reuse fabrication industry opportunity employ green chemistry onset rapid growth concurrently new availability risk information preliminary risk assessment health consumer protection division commission included suggestion data collection particle previously undocumented begin system nomenclature moreover report also stated current insurance risk assessment risk assessment community least speaking common language tackling new challenge beyond risk assessment community impact understanding exposure risk also significant many field immediately financial risk include cost avoidance lower insurance reduced legal regulatory preferred loan significantly avoidance lost revenue due consumer activist though toxicological adequate fully as risk information based current state field used fabrication five pose moderate relatively low perspective associated handling production process possible direct begin fabrication risk assessment framework used qualify industrial work information concerning industry focus develop safely responsibly acknowledge partial support work united environmental protection agency national science foundation although research insurance risk culprit responsible risk score incident risk normal risk latent risk production process score culprit score culprit score carbon monoxide iron pentacarbonyl sodium hydroxide carbon monoxide benzene soot toluene quantum hydrogen selenide hydrogen selenide carbon monoxide surfactant acetic acid acetic acid aluminum oxide titanium tetrachloride titanium tetrachloride silicon sulfuric acid arsine wine dioxide plastic titanium tetrachloride vinyl acetate titanium tetrachloride automotive lead dioxide sulfuric acid lead monoxide refined petroleum benzene toluene benzene toluene aspirin phenol toluene phenol figure latent risk production vol environmental science technology article funded part united environmental protection agency grant agreement subjected peer policy review therefore necessarily reflect agency official endorsement work would possible without generous permission insurance use risk calculation also gratefully acknowledge help beth earl beaver insurance carbon incorporated coker oxane professor walter chapman maria rice university supporting information available detailed explanation insurance protocol process production study behind entering fabrication insurance relative risk information provided free charge via literature kim comparison micro particle human upper airway model aerosol lam pulmonary toxicity carbon mouse day intratracheal instillation baron exposure carbon material assessment human environ health part reed roach comparative pulmonary toxicity assessment carbon yang cheng dynamic research toxicity cell membrane derivative induce oxidative stress brain juvenile largemouth bass environ health cox zareba fine zinc oxide healthy human inhalation study care laboratory assessment mobility porous medium environ velocity effect oxide deposition porous medium environ synthesis size control luminescent technique smith production carbon carbon monoxide via process parametric study synthesis characterization structure analysis production cook aqueous synthesis environmentally benign alumina ceramic mater aqueous titanium chloride titanium dioxide patent understanding process rev summer pollution index scientific basis insurance risk engineering murphy schwarz beaver total cost assessment methodology enhance chemical complex optimization preliminary risk analysis basis workshop march community health consumer protection directorate general commission advantage seven business case triple bottom line new society island canada received review manuscript received august accepted august e environmental science technology vol',\n",
       "       'pulmonary toxicity dependent upon particle size surface reed laboratory health environmental department chemistry rice university received august accepted pulmonary toxicology demonstrate toxic similar chemistry study however evidence contradict theory study compare toxicity synthetic versus quartz toxicity synthetic versus versus synthetic evaluate surface among relate toxicity tested surface activity hemolytic potential addition either carbonyl iron various particle saline solution subsequently assessed bronchoalveolar lavage fluid cell proliferation histopathological evaluation lung tissue week month various produced differential pulmonary inflammation always consistent particle size correlated surface activity particularly hemolytic potential lung tissue three quartz typical lung inflammatory macrophage accumulation concomitant early development pulmonary fibrosis various effect similar qualitatively different range histopathological effect descending order quartz quartz fine quartz quartz demonstrate pulmonary appear correlate better surface activity particle size surface area key pulmonary toxicity quartz particle size particle characterization surface activity pulmonary toxicity demonstrate low solubility generally consistent term defined size range produce potent inflammatory similar chemistry mass al al along particle size surface area particle number appear integral lung toxicity assumed important lung inflammatory process high deposition rate experimentally singlet rather evidence deposition lung largely escape alveolar macrophage surveillance gain greater access pulmonary translocation alveolar epithelium al al recently pulmonary toxicity effect intratracheally low toxicity reference particle type significant lung toxicity index measured versus considered variance conventional wisdom always toxic similar chemical composition accordingly run counter postulation surface area major factor associated pulmonary toxicity particle al concept particle size surface area pulmonary inflammation traditionally applied low toxicity often particle overload exposed systematically particle size surface area lung inflammatory toxicity cytotoxic correspondence lab po box de author university press behalf society toxicology reserved please toxicological advance access publication surface activity quartz important role toxic effect regard hazard quartz constant consistent entity dependent upon origin silica sample contact within complex composition surface activity generally ability quartz generate free cause oxidative stress biological however uniform among quartz thus based al quartz dealt single hazard entity contrast aim study as role particle size surface area well surface activity differential particle produce pulmonary inflammatory adverse tissue effect test hypothesis fine various size moreover following instillation potency inflammation cytotoxic lung effect fine particle equivalent mass standard active reference particle type addition assessed surface activity quartz particle correlated effect pulmonary general experimental design general approach study conduct substantial particle characterization quartz concomitant particle surface activity electron spin resonance hemolytic potential pulmonary following intratracheal instillation male particle crystalline silica ranging size u silica see fig table fine center biological environmental rice university carbonyl iron ranging size corporation fig characterization characterization used two intratracheal instillation transmission electron micrograph sample used study used study pattern two different sample used study weight loss profile loss residual water small molecular weight organic sizing data scanning electron microscope fine pulmonary toxicity particle reactivity fine production characterization particle production quartz quartz fine quartz low surfactant fig table total silica dispersed aqueous solution stainless steel bomb reactor min resulting suspension min separate supernatant saved separate centrifuge tube pellet water another min sequence decantation supernatant pellet repeated dispersed pellet solid vacuum dried several fine solid fine quartz combined min obtain pellet quartz resulting supernatant pellet water another min sequence decantation supernatant pellet repeated dispersed pellet solid vacuum dried several solid experiment repeated produce even though synthesis preparation minor reaction affected product specifically via treatment size shape crystal structure crystallite sensitive starting material surfactant well temperature pressure reaction time various quartz size sensitive difficult property reproduce two produced two separate slight reactant reaction easily led formation two different sized particle shape crystal structure however identical resulting min two prepared separately provide fresh sample pulmonary exposure small within preparation variable detailed discussion two see particle characterization sample variety physiochemical included cryogenic transmission electron microscopy dynamic light scattering specific surface area analysis bet diffraction differential thermal analysis inductively coupled plasma atomic emission spectrophotometry electron taken microscope sample prepared flash freezing suspension via fei liquid nitrogen temperature onto mesh grid ted redding ca analysis model sizing data taken particle sample saline solution determined adsorption onto apparatus al several prior adsorption analysis carried liquid nitrogen temperature collected general area detector diffraction system ka source powder run internal silicon powder standard account instrumental line calculating grain size line used determine purity crystal structure crystallite size minor air thermal advantage apparatus temperature range heating rate analysis vista ax since metal alter chemical toxicity elemental analysis pertinent one powerful analytical tool presence general experimental design pulmonary fundamental pulmonary low high dose response evaluation time course determine effect thus major study following time course low high intensity pulmonary inflammation airway lung parenchymal cell proliferation histopathological evaluation lung tissue two separate pulmonary first experiment effect quartz solution pulmonary inflammatory cytotoxic effect assessed bronchoalveolar lavage bal second experiment effect intratracheally quartz negative particle control measured experiment pulmonary inflammation index airway lung parenchymal cell proliferation pulmonary histopathological effect first study five per group per dose per time point intratracheally quartz prepared volume subjected dispersement bal fluid analysis week month second study five per group per dose per time point intratracheally reference control quartz prepared volume subjected dispersement bal fluid analysis lung tissue week month morphological second study additional four per group per high dose per time point four per group per low dose first two time particle listed well lung tissue analysis cell proliferation histopathological lower respiratory tract male river used study approximately old table particle characterization sample average size size range surface area crystallinity fe content fine quartz al study start mean range institutional animal care use committee animal program fully accredited association assessment accreditation laboratory animal care bronchoalveolar lavage warmed solution previously al cell pulmonary study al briefly first min supernatant removed clinical pathology biochemical bal chemistry analyzer lactate dehydrogenase alkaline phosphatase alp lavage fluid protein also measured cytoplasmic enzyme used indicator cell injury alp activity measure alveolar epithelial cell secretory activity alp activity bal considered indicator lung epithelial cell toxicity enhanced bal fluid protein relative generally consistent transudation vascular vasculature alveolar airway lung cell proliferation designed measure effect particle airway lung parenchymal cell turnover exposed following week corresponding instillation well week intraperitoneal injection sodium bicarbonate buffer solution dose body weight later pentobarbital injection following cessation spontaneous respiration trachea neutral fixative pressure ho min fixation trachea heart carefully removed en bloc immersion fixed addition piece duodenum positive internal control removed formaldehyde following fixation right cranial caudal left lung well duodenal ethanol histology paraffin cut mounted glass antibody carbazole marker aqueous minimum per animal terminal bronchiolar alveolar near alveolar duct bifurcation selection lung parenchymal random treatment group nucleus ie terminal bronchiolar epithelial lung parenchyma ie epithelial interstitial light microscopy magnification al exposed weighed prepared microscopy airway infusion fixation pressure ho week sagittal left right made razor blade tissue dissected left right upper right lower lung subsequently prepared light microscopy paraffin al model pulmonary injury three major lung inflammation accumulation foamy alveolar development early fibrosis tissue thickening semiquantitative second study four per group per high dose month time point alveolar macrophage accumulation tissue thickening ba longitudinal terminal bronchiole associated alveolar three sagittal four per group ba junction unit criterion detection foamy alveolar macrophage accumulation following confirmation minimum seven within associated alveolar lung tissue thickening harbinger early development pulmonary fibrosis also assessed surface activity spectrum acquired spectrometer operating microwave frequency er resonator approximately sample loaded diameter quartz tube nitrogen glove box sample tube capped nitrogen loaded resonator spectrum acquired cooling liquid nitrogen accessory region higher microwave power acquired sweep width modulation amplitude modulation frequency time constant lower microwave power acquired sweep width modulation amplitude modulation frequency time constant external active precise measurement factor spectrum quartz acquired identical purpose subtraction subtraction applied spectrum manuscript hemolytic potential hemolytic four used measured based method al fresh blood healthy human donor red blood washed four time solution centrifugation final suspension volume suspended quartz prepared previously diluted saline give stock solution serial diluted ranging quartz mixed erythrocyte suspension min incubation min room temperature particle suspension measured blank negative control positive control amount hemoglobin supernatant determined similar al statistical analysis analysis experimental corresponding control time point analysis variance test calculated sampling time significant test used compare control group exposed statistical significance assessed probability level physicochemical analysis average particle size size range surface area crystal purity iron content various figure table sizing data scanning electron microscope well spectroscopy general average particle size inversely correlated fine pulmonary toxicity particle reactivity surface area average particle size surface area average particle size surface area fine quartz average particle size surface area average particle size surface area table particle clearly consistent crystalline thermal analysis purity loss profile loss residual water small molecular weight organic addition analysis minimal iron content fine quartz fig table experiment bal fluid pulmonary inflammation bal substantially higher time fig intratracheal instillation particle produced substantial lung inflammatory response minimal sustained recruitment ie polymorphonuclear time contrast intratracheal instillation quartz produced persistent pulmonary inflammatory high dose fig bal fluid slight significant bal fluid versus measured exposed high dose sustained month time period similarly small significant bal fluid measured week contrast quartz produced persistent progressive increase bal fluid throughout month period fig experiment bal fluid pulmonary inflammation bal substantially higher particle time fig intratracheal instillation produced persistent pulmonary inflammatory high dose range fig produced reduced inflammatory response bal fluid produced persistent progressive bal fluid throughout month period fig slight bal fluid versus measured exposed significantly different versus month time period particle produced significant effect summarize bal fluid pulmonary quartz produced sustained lung inflammatory concomitant cytotoxic effect measured fig total cell percent bal exposed total cell percent bal exposed data taken week month statistical significance al produced potent initial inflammatory response le moderate response time second experiment produced persistent lung inflammatory similar quartz addition neutrophilic cytotoxic fine quartz generally lower intensity quartz well lung tissue lung tissue particle experiment lung lung increasing age study ie time following instillation lung slightly versus week month effect significantly different data shown cell proliferation tracheobronchial cell proliferation taking measured high dose fine corresponding week transient cell index measured well effect sustained fig lung parenchymal cell proliferation taking measured high dose along fine week significant cell index versus fig bal fluid biochemical exposed study micro total protein bal exposed data taken week month month time statistical significance fig total cell percent bal exposed total cell percent bal exposed data taken week month month time statistical significance fine pulmonary toxicity particle reactivity measured quartz week effect sustained fig summarize airway alveolar cell proliferation particle fine quartz pulmonary quartz produced higher lung parenchymal cell proliferation week histopathological evaluation histopathological analysis lung revealed pulmonary produced significant adverse effect normal lung architecture exposed exposure time ranging fig histopathological analysis lung revealed pulmonary quartz fig fig fine quartz fig produced lung inflammatory recruitment concomitant foamy alveolar macrophage accumulation progressive lung tissue thickening general effect near terminal alveolar although subpleural important note lung histopathological effect quartz virtually identical ie inflammation foamy alveolar macrophage accumulation lung tissue thickening however potency standpoint degree extent involvement within alveolar evident frequently substantially fig le frequently fig fig bal fluid biochemical exposed study micro total protein bal exposed data taken week month month exposure statistical significance fig tracheobronchial epithelial lung parenchymal cell proliferation exposed tracheobronchial epithelial lung parenchymal cell proliferation exposed data taken week month month time statistical significance al semiquantitative evaluation lung tissue revealed ba respectively lung tissue evidence macrophage accumulation tissue thickening ba lung evidence macrophage accumulation early fibrosis ba lung tissue revealed ba foamy evidence thickening ba early fibrosis noted lung spectrum determination radical specie spectrum dramatically different spectrum synthetic quartz spectrum similar clouter al present sample used correspond si centered radical specie respectively however particle contain peak accordingly spectrum various correlate pulmonary exposed data shown hemolytic potential hemolytic potential assay differential surface activity sample data intensity hemoglobin solution versus concentration sample tested particle suspension measured blank negative control positive control graphical analysis trend correlated inflammation cell proliferation data ie fine quartz fig accordingly likely study hemolytic surface activity provided best correlation data pulmonary particle size surface area iron content crystallinity table discussion objective pulmonary study as relationship particle area fig light micrograph lung tissue exposed exposure micrograph terminal bronchial corresponding alveolar ad normal lung architecture following quartz tissue accumulation foamy alveolar within alveolar tissue accumulation foamy alveolar within alveolar tissue accumulation foamy alveolar within alveolar quartz particle instillation terminal bronchiolar alveolar accumulation lack clearance development tissue thickening arrowhead common progressive nature lung disease magnification fine pulmonary toxicity particle reactivity surface activity acute lung toxicity intratracheally particle pulmonary methodology lung toxicity intratracheally positive control particle type well negative control particle type vehicle reversible lung inflammation likely related effect instillation procedure longer term time significant adverse pulmonary effect bal fluid cell proliferation pulmonary particle regardless particle size produced significant adverse effect versus pulmonary inflammation index histopathological revealed tested produced pulmonary inflammation foamy macrophage accumulation tissue thickening ie fibrosis however intensity adverse pulmonary effect related various particle variable dependent particle size toxicity range lung proliferation histopathological descending order quartz quartz fine quartz quartz noteworthy toxicity range various particle correlated directly hemolytic potential see table hemolysis silica partly related formation ho particle surface thus potency lung toxicity effect quartz particle dependent upon particle surface activity effect rather particle size surface area silica silica blank triton concentration fig hemolytic potential hemolytic potential used study data plotted intensity intensity hemoglobin solution versus concentration particle suspension measured blank negative control positive control fine quartz show trend inflammation cell proliferation data ie table summary fine quartz particle size surface area fe content crystallinity radical content hemolytic potential lung inflammation airway na lung parenchymal na histopathology na note table study range histopathology descending order quartz quartz fine quartz quartz study hemolytic surface activity provided best correlation data pulmonary particle size surface area iron content crystallinity within table value least value na data available al numerous investigating lung toxicological effect various quartz pulmonary toxicity quartz variable entity meaning surface different quartz variable different quartz particle preclude drawing general regarding toxicity quartz regard noted many toxicity quartz standard active reference north serve positive control reference many due large part fact pulmonary either two quartz particle always produced sustained progressive inflammatory ie corresponding lung fibrosis prerequisite development lung al al support notion clouter al workplace quartz would differ toxicity standard experimental quartz equivalent accordingly two workplace quartz reference several different study following release soluble iron inflammation rat lung following intratracheal instillation surface activity assessed hemolytic potential workplace cause inflammation dose time point quartz marked inflammatory measured inflammation permeability time measured hemolytic activity one two workplace quartz substantial soluble iron enhanced wholly greater surface area diameter releasable iron noteworthy hemolytic activity considered best predictor activity thus noted surface activity strongly influence potential clouter al hemolytic potential similar clouter al data correlate pulmonary however hemolytic assay toxicity trend commensurate pulmonary lung inflammation similar particle lyse concentration mechanism either surface activity related either defect jagged along crystal ease reactive specie definitive answer probably due synergy two fresh need specifically address surface activity nonetheless known least two potent hemolytic agent hemolytic effect appear related quartz surface erythrocyte cell interaction ie active site particle considered associated group proclivity donate hydrogen surface quartz hydrated presence water form group available bonding al however relationship hemolytic potential relative inflammation lung still remains surface reactive oxygen specie associated development oxidative stress inflammation fibrosis lung interesting note herein consistent clouter al considerable toxicity workplace quartz reference quartz particle experimental noteworthy particle hemolytic activity tested since hemolytic activity best predictor activity surface activity drive clouter al study pulmonary toxicity four different quartz particle size two pulmonary methodology although quartz produced ongoing inflammation adverse lung effect potency range toxicity correlated particle size surface area consistent erythrocyte hemolysis therefore hazard standpoint similar clouter al pulmonary toxicity related surface activity quartz particle study central research bal fluid hemolytic potential lewis prepared lung tissue cell proliferation staining provided animal resource care thank carrying particle size fine pulmonary toxicity particle reactivity respectively helpful manuscript',\n",
       "       'semiconductor quantum warren department university san la received manuscript received abstract bright photostable fluorescence semiconductor quantum show promise organic biological potential however remain unanswered bulk cadmium selenide well number least cell primary liver model found indeed acutely toxic certain specifically found synthesis exposure ultraviolet light surface data suggest liberation free due deterioration lattice appropriately coated nontoxic used track cell migration reorganization provide information design criterion use especially deterioration time may occur recently received enormous attention potential biology medicine key issue utility potential due inherent chemical composition heavy consequence inhalation particulate carbon quantum example shown useful alternative fluorescent use biological due bright fluorescence narrow emission broad excitation high photostability addition cellular several use quantum fluorescence popularity however beginning surface toxicity several recently question toxicity solid evidence provide definitive answer considerable concern inherently toxic core cadmium selenium would render toxic cell live previous shown significant toxicity used cell highly sensitive heavy additionally relevant model toxicity design criterion liver primary site acute injury due exposure even low cadmium known reduce viability furthermore cadmium liver cadmium binding sulfhydryl critical mitochondrial thought mechanism hepatic injury thiol group inactivation oxidative stress mitochondrial dysfunction protein found cytoplasm cadmium inert complex yet small protein normally present sufficient exposed high isolated grown similar intact liver thus isolated serve representative model since liver major target injury primary culture ideal model investigate variety synthesis storage coating animal remain gold standard toxicology examination extreme appropriate approach evaluate toxicity novel therefore strategy study initial led u conclude process environmental could dramatically affect toxicity culture model corresponding author medicine la ca current address institute engineering university canada vol chemical society web furthermore affected degree stability surface coating therefore set systematically examine role process surface excitation rate well establish mechanistic framework unify establish novel surface quantum establish model system rigorous evaluation primary isolated cultured em figure prepared organometallic procedure solvent oxide topo inert atmosphere acid range typical experimentation chose one solubilization thus least protective surface perturbed structure air illuminating radiation determined influence cellular viability viability assay colorimetric measure mitochondrial activity figure morphologically microscopy indicate standard synthesis cytotoxic figure inert atmosphere prior high concentration added render however initially subjected air min dramatic decrease cellular viability concentration based suspected air oxidizing surface leading cytotoxic effect test hypothesis used optical illumination catalyze oxidation process exposed source em power density figure toxicity quantum liver culture model dependent dose viability assessed mitochondrial activity relative untreated thirty exposure air highly toxic tested ultraviolet light exposure also toxicity exposure time dependent biochemical viability confirmed via phase contrast microscopy control distinct intercellular nucleus polygonal morphology nonviable exposed cytotoxic granular cytoplasm indistinct intercellular undefined nucleus evidence scale bar vol indeed decrease viability exposed light figure air light induce catalyze respectively oxidation exposure oxidative environment progressive change color profile solution fluorescence spectrum broad fluorescence peak adjacent fluorescence peak decrease quantum yield agreement previous oxidation fluorescence spectrum occur decrease size loss surface due oxidation broad fluorescence peak formation band induced newly formed defect oxidize se surface form case surface leaving behind dangling reduced thus exposure oxidative environment cause decomposition thereby leading desorption core experiment also marked increase oxidation time suggesting free cadmium progressively release free cadmium thereby led via conventional heavy metal toxicity lend credence hypothesis correlated amount free degree inductively coupled plasma optical emission spectroscopy remove intact acid precipitation centrifugation solution tested free cadmium since acid slowly etch first measured concentration determine concentration verify due acid degradation relatively high found low found solution culture model ion correlated high low respectively data correlate well previous rat exposure led significant cell death cell sensitive even lower cadmium exposure um cell resistant based data surface oxidation via oxidation release surface free cadmium solution thereby solution cytotoxic via known cadmium binding thiol mitochondrion surface however surface bound neighboring se relatively innocuous indicate surface use biological prevent surface oxidation improve whereas oxidative promote important store maintain inert atmosphere indicate exposure air prior capping render cytotoxic additionally important implication figure toxicity surface oxidation decrease size disruption crystal lattice exposure air surface oxidation first quantum confinement peak decrease peak amplitude spectrum chloroform observable color due spectrum white light shift yellow fluorescence spectrum light loss fluorescence also consistent surface oxidation exposure air fluorescence spectrum fluorescence peak min consistent decrease size due removal surface comparison amplitude min topo curve fold compensate loss quantum yield vol tumor previously like circulation live mouse system liver spleen phagocytosis would expose highly oxidative ho intended elimination therefore tested response ho indicate free cadmium indeed figure leading possibility toxicity protect surface highly oxidative incorporation surface polyethylene glycol promote escape may therefore critical success reduce surface oxidation surface shown decrease surface oxidation limiting transport oxygen surface gold similar manner would expect addition surface typically added increase quantum yield stability decrease surface oxidation resulting test effect surface capped yielding em presence capping layer confirmed fluorescence peak characteristic spectrum uncapped surface oxidation studied treatment exposure air water solubilization exposure light primary indicate capping virtually due oxidation air well previous showing addition capping layer le susceptible oxidation core alone figure spectral data core intact oxidation air similar previous though disruption cap spectrum figure capping however fully eliminate induced photooxidation figure data high free solution photooxidation confirming cap alone fully protect core figure le susceptible oxidation loss form possible leaving core figure surface oxidation release cadmium mechanism release surface via either surface oxidation inductively coupled plasma optical emission spectroscopy free cadmium higher free cadmium increasing exposure time figure vol highlight highlight vulnerable oxidation stability likely due relatively slow oxidation air ambient contrast radiation oxidation process leading photodecomposition thus far influence small organic photooxidative process affect explore potential effect large organic coated large onto surface bovine serum albumin conjugated surface carbodiimide compound produce protein shell similar used coat surface glass stability flocculation quantum yield surface allow seen figure addition coat provided protection capping alone specifically found reduced viability concentration measured reduction release figure effect surface coating surface oxidation release cadmium capping viability figure core remains intact spectrum possibly disruption cap chloroform free cadmium measured solution correlate figure effect bovine serum albumin surface coating surface oxidation ultraviolet light unexposed photooxidation toxic high extensive exposure note reduced exposure viability similar viability photooxidation observable change spectrum decrease first quantum confinement peak change fluorescence spectrum decrease amplitude corresponding oxidation core vol free cadmium protein shell slows oxidation process likely acting physical diffusion barrier surface toxicity completely capping however substantial cell death highest concentration tested exposure spectral data also significant surface oxidation decrease quantum confinement peak fluorescence peak consistent uncapped figure relate toxicity surface used also quantum dot corporation exposure similar also release low free cadmium measured commercial based correlation toxicity free cadmium measured would surmise would also cytotoxic exposure thus even commercially available release free time concern summary successive addition inorganic layer small organic organic shell progressively increasing typical high commonly used concentration approximately fold higher used roughly time higher used al breast cancer furthermore conventional cell continuous excitation would typically employed therefore indicate upper concentration limit light exposure careful attention coating minimize prevent cellular toxicity however protection surface oxidation may critical two previous relatively high ug mouse intravenous injection body systemically three clearance intact kidney breakdown smaller breakdown also clearing body since typically spherical greater diameter negatively clearance kidney glomerulus likely rare event clearance based albumin unless first broken smaller suggest even multiple surface oxidation occur free cadmium extreme used generate acute release may result chronic effect cadmium exposure kidney damage penetration light skin oxidation due inflammatory could induce cadmium release via surface oxidation therefore highly protective surface would critical toxicity unlikely surface substantially reduce surface oxidation fact expect coating currently employed development ie polymer protein would offer protection surface oxidation resultant data study provide design criterion quantitatively evaluate robustness coating strategy although exist proven core material biological likely due visible fluorescence range blue red synthesis though constituent se toxic high exposed cytotoxic furthermore addition either se dietary shown reduce rather exacerbate cadmium toxicity effect cellular application live cell thus far cytotoxic primary low relatively short exposure working within sought demonstrate utility tool live cell sensitive model system liver tissue site cadmium toxicity indeed live cell one area show potential conventional fluorescent fluorescent green fluorescent protein rather viability crude measure toxicity whether migration function rat fragile primary cell type would create model liver tissue stably many day culture model previously specifically promote function furthermore track migration formed organized cellular technique detail elsewhere capped coated polyethylene glycol prevent nonspecific binding conjugated epidermal growth factor em surrounded vol day organized morphologically phase contrast microscopy correlate red fluorescence day culture due cell migration phase contrast microscopy correlation morphology polygonal distinct nucleus fluorescence data indicate potential label live one week culture addition morphologic evidence cell viability microscopic evidence cell migration function fragile primary measurement daily albumin production data indicate deleterious effect function figure unlabeled thus organically coated found hepatic tissue determined cell viability migration function two culture future could similar fashion track number dynamic cellular stem cell progeny cancer morphogenesis wound healing summary summary shown quantum indeed cytotoxic certain specifically surface oxidation variety led formation reduced surface release free cadmium correlated cell death surface shown significantly reduce eliminate many make use capping layer synthesis precursor allow production highly luminescent require inorganic capping layer additionally figure application coated primary without compromising function support red organized regular previously cell migration phase contrast fluorescence microscopy phase contrast micrograph array surrounded day corresponding fluorescence image scale bar phase contrast micrograph visible reorganization corresponding fluorescence image day comparable control two culture assessed daily albumin secretion two day vol interested size shell made use uncapped biological organic capping layer must bear burden surface oxidation therefore nonetheless coated shown useful live cell hepatic tissue without deleterious effect viability migration function use however must critically suggest release possibility time comparison may exhibit novel toxicity due size inhalation carbon found induce cell death due inherent chemical composition rather signal end future serve suggest synthesis surface coating minimize heavy metal toxicity biological establish quantitative framework evaluate potential thank assistance isolation mike sailor providing synthesis provided foundation university connaught foundation supporting information available experimental information available free charge via'], dtype=object)"
      ]
     },
     "execution_count": 12,
     "metadata": {},
     "output_type": "execute_result"
    }
   ],
   "source": [
    "X = documents.iloc[:, 1].values\n",
    "X"
   ]
  },
  {
   "cell_type": "code",
   "execution_count": 13,
   "metadata": {},
   "outputs": [
    {
     "data": {
      "text/plain": [
       "array(['TOX', 'SYN', 'ENV', ..., 'ENV', 'TOX', 'TOX'], dtype=object)"
      ]
     },
     "execution_count": 13,
     "metadata": {},
     "output_type": "execute_result"
    }
   ],
   "source": [
    "y  = documents.iloc[:, 0].values\n",
    "y"
   ]
  },
  {
   "cell_type": "markdown",
   "metadata": {},
   "source": [
    "### Define our Pipeine"
   ]
  },
  {
   "cell_type": "code",
   "execution_count": 14,
   "metadata": {
    "collapsed": true
   },
   "outputs": [],
   "source": [
    "pipeline = Pipeline([\n",
    "    ('vectorizer', CountVectorizer(ngram_range=(1, 2))),\n",
    "    ('classifier', SVC(kernel='rbf'))\n",
    "])\n"
   ]
  },
  {
   "cell_type": "markdown",
   "metadata": {},
   "source": [
    "### Perform Cross-Validation"
   ]
  },
  {
   "cell_type": "code",
   "execution_count": 23,
   "metadata": {},
   "outputs": [
    {
     "name": "stderr",
     "output_type": "stream",
     "text": [
      "/Users/brandonwatts/anaconda3/lib/python3.6/site-packages/sklearn/metrics/classification.py:1135: UndefinedMetricWarning: F-score is ill-defined and being set to 0.0 in labels with no predicted samples.\n",
      "  'precision', 'predicted', average, warn_for)\n",
      "/Users/brandonwatts/anaconda3/lib/python3.6/site-packages/sklearn/metrics/classification.py:1135: UndefinedMetricWarning: F-score is ill-defined and being set to 0.0 in labels with no predicted samples.\n",
      "  'precision', 'predicted', average, warn_for)\n",
      "/Users/brandonwatts/anaconda3/lib/python3.6/site-packages/sklearn/metrics/classification.py:1135: UndefinedMetricWarning: F-score is ill-defined and being set to 0.0 in labels with no predicted samples.\n",
      "  'precision', 'predicted', average, warn_for)\n",
      "/Users/brandonwatts/anaconda3/lib/python3.6/site-packages/sklearn/metrics/classification.py:1135: UndefinedMetricWarning: F-score is ill-defined and being set to 0.0 in labels with no predicted samples.\n",
      "  'precision', 'predicted', average, warn_for)\n",
      "/Users/brandonwatts/anaconda3/lib/python3.6/site-packages/sklearn/metrics/classification.py:1135: UndefinedMetricWarning: F-score is ill-defined and being set to 0.0 in labels with no predicted samples.\n",
      "  'precision', 'predicted', average, warn_for)\n",
      "/Users/brandonwatts/anaconda3/lib/python3.6/site-packages/sklearn/metrics/classification.py:1135: UndefinedMetricWarning: F-score is ill-defined and being set to 0.0 in labels with no predicted samples.\n",
      "  'precision', 'predicted', average, warn_for)\n",
      "/Users/brandonwatts/anaconda3/lib/python3.6/site-packages/sklearn/metrics/classification.py:1135: UndefinedMetricWarning: F-score is ill-defined and being set to 0.0 in labels with no predicted samples.\n",
      "  'precision', 'predicted', average, warn_for)\n",
      "/Users/brandonwatts/anaconda3/lib/python3.6/site-packages/sklearn/metrics/classification.py:1135: UndefinedMetricWarning: F-score is ill-defined and being set to 0.0 in labels with no predicted samples.\n",
      "  'precision', 'predicted', average, warn_for)\n",
      "/Users/brandonwatts/anaconda3/lib/python3.6/site-packages/sklearn/metrics/classification.py:1135: UndefinedMetricWarning: Precision is ill-defined and being set to 0.0 in labels with no predicted samples.\n",
      "  'precision', 'predicted', average, warn_for)\n",
      "/Users/brandonwatts/anaconda3/lib/python3.6/site-packages/sklearn/metrics/classification.py:1135: UndefinedMetricWarning: Precision is ill-defined and being set to 0.0 in labels with no predicted samples.\n",
      "  'precision', 'predicted', average, warn_for)\n",
      "/Users/brandonwatts/anaconda3/lib/python3.6/site-packages/sklearn/metrics/classification.py:1135: UndefinedMetricWarning: Precision is ill-defined and being set to 0.0 in labels with no predicted samples.\n",
      "  'precision', 'predicted', average, warn_for)\n",
      "/Users/brandonwatts/anaconda3/lib/python3.6/site-packages/sklearn/metrics/classification.py:1135: UndefinedMetricWarning: Precision is ill-defined and being set to 0.0 in labels with no predicted samples.\n",
      "  'precision', 'predicted', average, warn_for)\n",
      "/Users/brandonwatts/anaconda3/lib/python3.6/site-packages/sklearn/metrics/classification.py:1135: UndefinedMetricWarning: Precision is ill-defined and being set to 0.0 in labels with no predicted samples.\n",
      "  'precision', 'predicted', average, warn_for)\n",
      "/Users/brandonwatts/anaconda3/lib/python3.6/site-packages/sklearn/metrics/classification.py:1135: UndefinedMetricWarning: Precision is ill-defined and being set to 0.0 in labels with no predicted samples.\n",
      "  'precision', 'predicted', average, warn_for)\n",
      "/Users/brandonwatts/anaconda3/lib/python3.6/site-packages/sklearn/metrics/classification.py:1135: UndefinedMetricWarning: Precision is ill-defined and being set to 0.0 in labels with no predicted samples.\n",
      "  'precision', 'predicted', average, warn_for)\n",
      "/Users/brandonwatts/anaconda3/lib/python3.6/site-packages/sklearn/metrics/classification.py:1135: UndefinedMetricWarning: Precision is ill-defined and being set to 0.0 in labels with no predicted samples.\n",
      "  'precision', 'predicted', average, warn_for)\n",
      "/Users/brandonwatts/anaconda3/lib/python3.6/site-packages/sklearn/metrics/classification.py:1135: UndefinedMetricWarning: F-score is ill-defined and being set to 0.0 in labels with no predicted samples.\n",
      "  'precision', 'predicted', average, warn_for)\n",
      "/Users/brandonwatts/anaconda3/lib/python3.6/site-packages/sklearn/metrics/classification.py:1135: UndefinedMetricWarning: F-score is ill-defined and being set to 0.0 in labels with no predicted samples.\n",
      "  'precision', 'predicted', average, warn_for)\n",
      "/Users/brandonwatts/anaconda3/lib/python3.6/site-packages/sklearn/metrics/classification.py:1135: UndefinedMetricWarning: Precision is ill-defined and being set to 0.0 in labels with no predicted samples.\n",
      "  'precision', 'predicted', average, warn_for)\n",
      "/Users/brandonwatts/anaconda3/lib/python3.6/site-packages/sklearn/metrics/classification.py:1135: UndefinedMetricWarning: Precision is ill-defined and being set to 0.0 in labels with no predicted samples.\n",
      "  'precision', 'predicted', average, warn_for)\n"
     ]
    },
    {
     "name": "stdout",
     "output_type": "stream",
     "text": [
      "Fold number:  0\n",
      "Precision:  0.627093065038\n",
      "Recall:  0.595041322314\n",
      "F1 Score:  0.483419072696\n",
      "\n",
      "\n",
      "Fold number:  1\n",
      "Precision:  0.56128309287\n",
      "Recall:  0.570247933884\n",
      "F1 Score:  0.436515820845\n",
      "\n",
      "\n",
      "Fold number:  2\n",
      "Precision:  0.561853448276\n",
      "Recall:  0.575\n",
      "F1 Score:  0.448089976322\n",
      "\n",
      "\n",
      "Fold number:  3\n",
      "Precision:  0.628244837758\n",
      "Recall:  0.6\n",
      "F1 Score:  0.493966368053\n",
      "\n",
      "\n",
      "Fold number:  4\n",
      "Precision:  0.620186781609\n",
      "Recall:  0.575\n",
      "F1 Score:  0.446281414513\n",
      "\n",
      "\n",
      "Fold number:  5\n",
      "Precision:  0.587971230159\n",
      "Recall:  0.6\n",
      "F1 Score:  0.493580020699\n",
      "\n",
      "\n",
      "Fold number:  6\n",
      "Precision:  0.625511695906\n",
      "Recall:  0.591666666667\n",
      "F1 Score:  0.479731791848\n",
      "\n",
      "\n",
      "Fold number:  7\n",
      "Precision:  0.497270114943\n",
      "Recall:  0.566666666667\n",
      "F1 Score:  0.43332807156\n",
      "\n",
      "\n",
      "Fold number:  8\n",
      "Precision:  0.638986905042\n",
      "Recall:  0.623931623932\n",
      "F1 Score:  0.526742354329\n",
      "\n",
      "\n",
      "Fold number:  9\n",
      "Precision:  0.575977611376\n",
      "Recall:  0.589743589744\n",
      "F1 Score:  0.466074646511\n",
      "\n",
      "\n",
      "Averages Across Folds\n",
      "Precision:  0.592437878298\n",
      "Recall:  0.588729780321\n",
      "F1 Score:  0.470772953738\n"
     ]
    }
   ],
   "source": [
    "NUMBER_OF_FOLDS = 10\n",
    "scoreers = {\n",
    "        \"f1_scores\": make_scorer(f1_score, average='weighted'),\n",
    "        \"precision_scores\": make_scorer(precision_score, average='weighted'),\n",
    "        \"recall_scores\": make_scorer(recall_score, average='weighted'),\n",
    "    }\n",
    "scores = cross_validate(pipeline, X, y, cv=NUMBER_OF_FOLDS,scoring=scoreers, n_jobs=-1)\n",
    "\n",
    "f1_scores = scores['test_f1_scores']\n",
    "precision_scores = scores['test_precision_scores']\n",
    "recall_scores = scores['test_recall_scores']\n",
    "\n",
    "for x in range(NUMBER_OF_FOLDS):\n",
    "    print(\"Fold number: \", x)\n",
    "    print(\"Precision: \", precision_scores[x])\n",
    "    print(\"Recall: \", recall_scores[x])\n",
    "    print(\"F1 Score: \", f1_scores[x])\n",
    "    print(\"\\n\")\n",
    "\n",
    "print(\"Averages Across Folds\")\n",
    "print(\"Precision: \", np.mean(np.array(precision_scores)))\n",
    "print(\"Recall: \", np.mean(np.array(recall_scores)))\n",
    "print(\"F1 Score: \", np.mean(np.array(f1_scores)))"
   ]
  }
 ],
 "metadata": {
  "kernelspec": {
   "display_name": "Python 3",
   "language": "python",
   "name": "python3"
  },
  "language_info": {
   "codemirror_mode": {
    "name": "ipython",
    "version": 3
   },
   "file_extension": ".py",
   "mimetype": "text/x-python",
   "name": "python",
   "nbconvert_exporter": "python",
   "pygments_lexer": "ipython3",
   "version": "3.6.3"
  }
 },
 "nbformat": 4,
 "nbformat_minor": 2
}
